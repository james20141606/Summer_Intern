{
 "cells": [
  {
   "cell_type": "code",
   "execution_count": 1,
   "metadata": {},
   "outputs": [
    {
     "name": "stdout",
     "output_type": "stream",
     "text": [
      "Populating the interactive namespace from numpy and matplotlib\n"
     ]
    }
   ],
   "source": [
    "import gc, argparse, sys, os, errno\n",
    "%pylab inline\n",
    "import numpy as np\n",
    "import pandas as pd\n",
    "import matplotlib.pyplot as plt\n",
    "plt.style.use('ggplot')\n",
    "import seaborn as sns\n",
    "sns.set()\n",
    "import h5py\n",
    "import os\n",
    "import scipy\n",
    "import sklearn\n",
    "from scipy.stats import pearsonr\n",
    "import warnings\n",
    "warnings.filterwarnings('ignore')"
   ]
  },
  {
   "cell_type": "code",
   "execution_count": 2,
   "metadata": {},
   "outputs": [],
   "source": [
    "import matplotlib.animation as animation\n",
    "from matplotlib import rc\n",
    "from IPython.display import HTML, Image\n",
    "from ipywidgets import interact,Dropdown,IntSlider,FloatRangeSlider, FloatSlider, RadioButtons\n",
    "rc('animation', html='html5')"
   ]
  },
  {
   "cell_type": "code",
   "execution_count": 3,
   "metadata": {},
   "outputs": [
    {
     "name": "stdout",
     "output_type": "stream",
     "text": [
      "/home/xupeng/projects/synapse\n"
     ]
    }
   ],
   "source": [
    "cd /home/xupeng/projects/synapse/"
   ]
  },
  {
   "cell_type": "markdown",
   "metadata": {},
   "source": [
    "## metrics  synaptic_partners_fscore\n",
    "- 看起来只需要test文件的annotation，和GT的annotation与neuron_id即可\n",
    "- 这个annotaion是什么？ neuron_id  pre 和post location"
   ]
  },
  {
   "cell_type": "markdown",
   "metadata": {},
   "source": [
    "## 计算fscore步骤\n",
    "- cost_matrix 步骤:\n",
    "    - pre_post_locations 获得pre和post的location，可以考虑offset的shift情况\n",
    "       可以获得rec和gt的location\n",
    "    - pre_post_labels 获得pre和post的segmentation？作为rec_labels  segmentation[pre]  得到该坐标点像素值,用于后续比较是否来自同一个segment\n",
    "    - 建立cost矩阵，以rec和gt中location数量比较多的一个作为边长  初始值 2*matching_threshold\n",
    "    - 接下来用cost函数计算，对于两两的rec和gt，输入rec_locations[i], gt_locations[j], rec_labels[i], gt_labels[j], matching_threshold\n",
    "    - 在cost函数中，先设置max_cost = 2*matching_threshold，首先如果labels1 != labels2(rec_labels[i], gt_labels[j]),由pre_post_labels可知说明的是rec和gt不来自同一个segmentation（neuron），先return max_cost\n",
    "    - cost函数继续，用np.linalg.norm计算pre和post各自的二范数，即距离，如果其中任意一个比thres大，也return max_cost。最终cost函数返回pre和post的距离的均值。即如果wrong partener(rec和gt不在一个seg)，或者FP：超过了阈值，如果都没有，就返回pre和post距离的均值\n",
    "    - 回到cost_matrix函数中，如果距离小于阈值，给potential pair的count加上1 经过循环，cost_matrix填满了数，但是循环是rec_locations，gt_locations，没有遍历到的点自动为max_cost\n",
    "- match using Hungarian method\n",
    ">All detected pairs that have both annotations inside the matching areas of a ground truth pair are considered potential matches. Of all potential matches, we find true matches by solving an assignment problem minimizing the Euclidean distance. Unmatched detected pairs are considered FP, unmatched ground truth pairs FN. The final score is the F1-score of the FPs and FNs.\n",
    "\n",
    "    - 用linear_sum_assignment(costs - np.amax(costs) - 1)  np.amax(costs)基本应该是max_cost(2*matching_threshold)\n",
    "        - scpiy的linear_sum_assignment可以解决任务分配问题\n",
    "        let X be a boolean matrix where X[i,j] =1 if row i is assigned to column j. Then the optimal assignment has cost $$min \\sum_i \\sum_j C_{ij}X_{ij}$$，即找到所有配对的最小欧式距离，返回两组数，分别是行和对应的列号。这样就找到了所有的可能配对的基于距离的最佳配对\n",
    "    - 留下这些最佳配对中小于阈值的配对。\n",
    "\n",
    "\n",
    "- unmatched in rec = FP，模型检测的所有配对个数减去这些配对的个数是FP的数量，\n",
    "- unmatched in gt = FN，GT所有配对个数减去这些配对的个数是FN的数量\n",
    "- all ground truth elements - FN = TP\n",
    "- 接下来就可以计算fscore, precision, recall, fp, fn, filtered_matches等值\n",
    "        "
   ]
  },
  {
   "cell_type": "code",
   "execution_count": 73,
   "metadata": {},
   "outputs": [
    {
     "data": {
      "text/plain": [
       "(array([0, 1, 2, 3, 4, 5, 6, 7, 8, 9]), array([5, 7, 4, 0, 2, 9, 1, 8, 6, 3]))"
      ]
     },
     "execution_count": 73,
     "metadata": {},
     "output_type": "execute_result"
    }
   ],
   "source": [
    "scipy.optimize.linear_sum_assignment(np.random.normal(5,10,100).reshape(10,10))"
   ]
  },
  {
   "cell_type": "code",
   "execution_count": 4,
   "metadata": {},
   "outputs": [],
   "source": [
    "from scipy.optimize import linear_sum_assignment\n",
    "import numpy as np\n",
    "\n",
    "def synaptic_partners_fscore(rec_annotations, gt_annotations, gt_segmentation, matching_threshold = 400, all_stats = False):\n",
    "    \"\"\"Compute the f-score of the found synaptic partners.\n",
    "    Parameters\n",
    "    ----------\n",
    "    rec_annotations: Annotations, containing found synaptic partners\n",
    "    gt_annotations: Annotations, containing ground truth synaptic partners\n",
    "    gt_segmentation: Volume, ground truth neuron segmentation\n",
    "    matching_threshold: float, world units\n",
    "        Euclidean distance threshold to consider two annotations a potential\n",
    "        match. Annotations that are `matching_threshold` or more untis apart\n",
    "        from each other are not considered as potential matches.\n",
    "    all_stats: boolean, optional\n",
    "        Whether to also return precision, recall, FP, FN, and matches as a 6-tuple with f-score\n",
    "    Returns\n",
    "    -------\n",
    "    fscore: float\n",
    "        The f-score of the found synaptic partners.\n",
    "    precision: float, optional\n",
    "    recall: float, optional\n",
    "    fp: int, optional\n",
    "    fn: int, optional\n",
    "    filtered_matches: list of tuples, optional\n",
    "        The indices of the matches with matching costs.\n",
    "    \"\"\"\n",
    "\n",
    "    # get cost matrix\n",
    "    costs = cost_matrix(rec_annotations, gt_annotations, gt_segmentation, matching_threshold)\n",
    "\n",
    "    # match using Hungarian method\n",
    "    print (\"Finding cost-minimal matches...\")\n",
    "    matches = linear_sum_assignment(costs - np.amax(costs) - 1)\n",
    "    matches = zip(matches[0], matches[1])  # scipy returns matches as numpy arrays\n",
    "\n",
    "    filtered_matches = [ (i,j, costs[i][j]) for (i,j) in matches if costs[i][j] <= matching_threshold ]\n",
    "    print (str(len(filtered_matches)) + \" matches found\")\n",
    "\n",
    "    # unmatched in rec = FP\n",
    "    fp = len(rec_annotations.pre_post_partners) - len(filtered_matches)\n",
    "\n",
    "    # unmatched in gt = FN\n",
    "    fn = len(gt_annotations.pre_post_partners) - len(filtered_matches)\n",
    "\n",
    "    # all ground truth elements - FN = TP\n",
    "    tp = len(gt_annotations.pre_post_partners) - fn\n",
    "\n",
    "    precision = float(tp)/(tp + fp)\n",
    "    recall = float(tp)/(tp + fn)\n",
    "    fscore = 2.0*precision*recall/(precision + recall)\n",
    "\n",
    "    if all_stats:\n",
    "        return (fscore, precision, recall, fp, fn, filtered_matches)\n",
    "    else:\n",
    "        return fscore\n",
    "\n",
    "def cost_matrix(rec, gt, gt_segmentation, matching_threshold):\n",
    "\n",
    "    print (\"Computing matching costs...\")\n",
    "\n",
    "    rec_locations = pre_post_locations(rec, gt_segmentation)\n",
    "    gt_locations = pre_post_locations(gt, gt_segmentation)\n",
    "\n",
    "    rec_labels = pre_post_labels(rec_locations, gt_segmentation)\n",
    "    gt_labels = pre_post_labels(gt_locations, gt_segmentation)\n",
    "\n",
    "    size = max(len(rec_locations), len(gt_locations))\n",
    "    costs = np.zeros((size, size), dtype=np.float)\n",
    "    costs[:] = 2*matching_threshold\n",
    "    num_potential_matches = 0\n",
    "    for i in range(len(rec_locations)):\n",
    "        for j in range(len(gt_locations)):\n",
    "            c = cost(rec_locations[i], gt_locations[j], rec_labels[i], gt_labels[j], matching_threshold)\n",
    "            costs[i,j] = c\n",
    "            if c <= matching_threshold:\n",
    "                num_potential_matches += 1\n",
    "\n",
    "    print (str(num_potential_matches) + \" potential matches found\")\n",
    "\n",
    "    return costs\n",
    "\n",
    "def pre_post_locations(annotations, gt_segmentation):\n",
    "    \"\"\"Get the locations of the annotations relative to the ground truth offset.\"\"\"\n",
    "\n",
    "    locations = annotations.locations()\n",
    "    shift = sub(annotations.offset, gt_segmentation.offset)\n",
    "\n",
    "    return [\n",
    "        (add(annotations.get_annotation(pre_id)[1], shift), add(annotations.get_annotation(post_id)[1], shift)) for (pre_id, post_id) in annotations.pre_post_partners\n",
    "    ]\n",
    "\n",
    "def pre_post_labels(locations, segmentation):\n",
    "\n",
    "    return [ (segmentation[pre], segmentation[post]) for (pre, post) in locations ]\n",
    "\n",
    "\n",
    "def cost(pre_post_location1, pre_post_location2, labels1, labels2, matching_threshold):\n",
    "\n",
    "    max_cost = 2*matching_threshold\n",
    "\n",
    "    # pairs do not link the same segments\n",
    "    if labels1 != labels2:\n",
    "        return max_cost\n",
    "\n",
    "    pre_dist = distance(pre_post_location1[0], pre_post_location2[0])\n",
    "    post_dist = distance(pre_post_location1[1], pre_post_location2[1])\n",
    "\n",
    "    if pre_dist > matching_threshold or post_dist > matching_threshold:\n",
    "        return max_cost\n",
    "\n",
    "    return 0.5*(pre_dist + post_dist)\n",
    "\n",
    "def distance(a, b):\n",
    "    return np.linalg.norm(np.array(list(a))-np.array(list(b)))\n",
    "\n",
    "def add(a, b):\n",
    "    return tuple([a[d] + b[d] for d in range(len(b))])\n",
    "\n",
    "def sub(a, b):\n",
    "    return tuple([a[d] - b[d] for d in range(len(b))])"
   ]
  },
  {
   "cell_type": "code",
   "execution_count": 65,
   "metadata": {},
   "outputs": [
    {
     "data": {
      "text/plain": [
       "5.0"
      ]
     },
     "execution_count": 65,
     "metadata": {},
     "output_type": "execute_result"
    }
   ],
   "source": [
    "np.linalg.norm(np.array([3,4]))"
   ]
  },
  {
   "cell_type": "code",
   "execution_count": 5,
   "metadata": {},
   "outputs": [],
   "source": [
    "#from synaptic_partners import synaptic_partners_fscore\n",
    "\n",
    "class SynapticPartners:\n",
    "\n",
    "    def __init__(self, matching_threshold = 400):\n",
    "\n",
    "        self.matching_threshold = matching_threshold\n",
    "\n",
    "    def fscore(self, rec_annotations, gt_annotations, gt_segmentation, all_stats = False):\n",
    "\n",
    "        return synaptic_partners_fscore(rec_annotations, gt_annotations, gt_segmentation, self.matching_threshold, all_stats)\n"
   ]
  },
  {
   "cell_type": "code",
   "execution_count": 6,
   "metadata": {},
   "outputs": [],
   "source": [
    "synaptic_partners_evaluation = SynapticPartners()"
   ]
  },
  {
   "cell_type": "markdown",
   "metadata": {},
   "source": [
    "### 查看test是什么东西\n",
    "test = CremiFile('test.hdf', 'r')\n",
    "truth = CremiFile('groundtruth.hdf', 'r')"
   ]
  },
  {
   "cell_type": "code",
   "execution_count": 11,
   "metadata": {},
   "outputs": [],
   "source": [
    "testcremi = CremiFile('data/public/sample_A+_padded_20160601.hdf', 'r')\n",
    "truth = CremiFile('data/public/sample_A_padded_20160501.hdf', 'r')"
   ]
  },
  {
   "cell_type": "code",
   "execution_count": 29,
   "metadata": {},
   "outputs": [
    {
     "data": {
      "text/plain": [
       "<__main__.Annotations at 0x7f9c8c81a6a0>"
      ]
     },
     "execution_count": 29,
     "metadata": {},
     "output_type": "execute_result"
    }
   ],
   "source": [
    "testcremi.read_annotations()"
   ]
  },
  {
   "cell_type": "code",
   "execution_count": 30,
   "metadata": {},
   "outputs": [
    {
     "data": {
      "text/plain": [
       "<__main__.Volume at 0x7f9c8c81a668>"
      ]
     },
     "execution_count": 30,
     "metadata": {},
     "output_type": "execute_result"
    }
   ],
   "source": [
    "truth.read_neuron_ids()"
   ]
  },
  {
   "cell_type": "markdown",
   "metadata": {},
   "source": [
    "##### Fscore算法\n",
    "- 看起来只需要test文件的annotation，和GT的annotation与neuron_id即可？！\n",
    "- annotation是presynaptic_site？\n",
    "- 相关代码：\n",
    "    - Annotations()  set_pre_post_partners(self, pre_id, post_id) annotation class读取，存储所有annotation相关数据\n",
    "    尤其是id，location\n",
    "    read_neuron_ids 读取neuron id /volumes/labels/neuron_ids\n",
    "    cost_matrix 需要计算cost matrix 用到的还是上面的东西加上threshold\n",
    "    pre_post_locations  并且用它的结果得到pre_post_labels"
   ]
  },
  {
   "cell_type": "code",
   "execution_count": 113,
   "metadata": {},
   "outputs": [
    {
     "data": {
      "text/plain": [
       "<__main__.Annotations at 0x7f9c8c802d30>"
      ]
     },
     "execution_count": 113,
     "metadata": {},
     "output_type": "execute_result"
    }
   ],
   "source": [
    "annotations"
   ]
  },
  {
   "cell_type": "code",
   "execution_count": 114,
   "metadata": {},
   "outputs": [
    {
     "name": "stdout",
     "output_type": "stream",
     "text": [
      "Computing matching costs...\n"
     ]
    },
    {
     "ename": "IndexError",
     "evalue": "location (-1488.0, -3585.0, -3582.0) does not lie inside volume",
     "output_type": "error",
     "traceback": [
      "\u001b[0;31m---------------------------------------------------------------------------\u001b[0m",
      "\u001b[0;31mIndexError\u001b[0m                                Traceback (most recent call last)",
      "\u001b[0;32m<ipython-input-114-833037d4840b>\u001b[0m in \u001b[0;36m<module>\u001b[0;34m()\u001b[0m\n\u001b[0;32m----> 1\u001b[0;31m \u001b[0mfscore\u001b[0m \u001b[0;34m=\u001b[0m \u001b[0msynaptic_partners_evaluation\u001b[0m\u001b[0;34m.\u001b[0m\u001b[0mfscore\u001b[0m\u001b[0;34m(\u001b[0m\u001b[0mannotations\u001b[0m\u001b[0;34m,\u001b[0m\u001b[0mannotations\u001b[0m\u001b[0;34m,\u001b[0m \u001b[0mtruth\u001b[0m\u001b[0;34m.\u001b[0m\u001b[0mread_neuron_ids\u001b[0m\u001b[0;34m(\u001b[0m\u001b[0;34m)\u001b[0m\u001b[0;34m)\u001b[0m\u001b[0;34m\u001b[0m\u001b[0m\n\u001b[0m",
      "\u001b[0;32m<ipython-input-7-aaf3b2c175ef>\u001b[0m in \u001b[0;36mfscore\u001b[0;34m(self, rec_annotations, gt_annotations, gt_segmentation, all_stats)\u001b[0m\n\u001b[1;32m      9\u001b[0m     \u001b[0;32mdef\u001b[0m \u001b[0mfscore\u001b[0m\u001b[0;34m(\u001b[0m\u001b[0mself\u001b[0m\u001b[0;34m,\u001b[0m \u001b[0mrec_annotations\u001b[0m\u001b[0;34m,\u001b[0m \u001b[0mgt_annotations\u001b[0m\u001b[0;34m,\u001b[0m \u001b[0mgt_segmentation\u001b[0m\u001b[0;34m,\u001b[0m \u001b[0mall_stats\u001b[0m \u001b[0;34m=\u001b[0m \u001b[0;32mFalse\u001b[0m\u001b[0;34m)\u001b[0m\u001b[0;34m:\u001b[0m\u001b[0;34m\u001b[0m\u001b[0m\n\u001b[1;32m     10\u001b[0m \u001b[0;34m\u001b[0m\u001b[0m\n\u001b[0;32m---> 11\u001b[0;31m         \u001b[0;32mreturn\u001b[0m \u001b[0msynaptic_partners_fscore\u001b[0m\u001b[0;34m(\u001b[0m\u001b[0mrec_annotations\u001b[0m\u001b[0;34m,\u001b[0m \u001b[0mgt_annotations\u001b[0m\u001b[0;34m,\u001b[0m \u001b[0mgt_segmentation\u001b[0m\u001b[0;34m,\u001b[0m \u001b[0mself\u001b[0m\u001b[0;34m.\u001b[0m\u001b[0mmatching_threshold\u001b[0m\u001b[0;34m,\u001b[0m \u001b[0mall_stats\u001b[0m\u001b[0;34m)\u001b[0m\u001b[0;34m\u001b[0m\u001b[0m\n\u001b[0m",
      "\u001b[0;32m<ipython-input-6-70396024d669>\u001b[0m in \u001b[0;36msynaptic_partners_fscore\u001b[0;34m(rec_annotations, gt_annotations, gt_segmentation, matching_threshold, all_stats)\u001b[0m\n\u001b[1;32m     28\u001b[0m \u001b[0;34m\u001b[0m\u001b[0m\n\u001b[1;32m     29\u001b[0m     \u001b[0;31m# get cost matrix\u001b[0m\u001b[0;34m\u001b[0m\u001b[0;34m\u001b[0m\u001b[0m\n\u001b[0;32m---> 30\u001b[0;31m     \u001b[0mcosts\u001b[0m \u001b[0;34m=\u001b[0m \u001b[0mcost_matrix\u001b[0m\u001b[0;34m(\u001b[0m\u001b[0mrec_annotations\u001b[0m\u001b[0;34m,\u001b[0m \u001b[0mgt_annotations\u001b[0m\u001b[0;34m,\u001b[0m \u001b[0mgt_segmentation\u001b[0m\u001b[0;34m,\u001b[0m \u001b[0mmatching_threshold\u001b[0m\u001b[0;34m)\u001b[0m\u001b[0;34m\u001b[0m\u001b[0m\n\u001b[0m\u001b[1;32m     31\u001b[0m \u001b[0;34m\u001b[0m\u001b[0m\n\u001b[1;32m     32\u001b[0m     \u001b[0;31m# match using Hungarian method\u001b[0m\u001b[0;34m\u001b[0m\u001b[0;34m\u001b[0m\u001b[0m\n",
      "\u001b[0;32m<ipython-input-6-70396024d669>\u001b[0m in \u001b[0;36mcost_matrix\u001b[0;34m(rec, gt, gt_segmentation, matching_threshold)\u001b[0m\n\u001b[1;32m     63\u001b[0m     \u001b[0mgt_locations\u001b[0m \u001b[0;34m=\u001b[0m \u001b[0mpre_post_locations\u001b[0m\u001b[0;34m(\u001b[0m\u001b[0mgt\u001b[0m\u001b[0;34m,\u001b[0m \u001b[0mgt_segmentation\u001b[0m\u001b[0;34m)\u001b[0m\u001b[0;34m\u001b[0m\u001b[0m\n\u001b[1;32m     64\u001b[0m \u001b[0;34m\u001b[0m\u001b[0m\n\u001b[0;32m---> 65\u001b[0;31m     \u001b[0mrec_labels\u001b[0m \u001b[0;34m=\u001b[0m \u001b[0mpre_post_labels\u001b[0m\u001b[0;34m(\u001b[0m\u001b[0mrec_locations\u001b[0m\u001b[0;34m,\u001b[0m \u001b[0mgt_segmentation\u001b[0m\u001b[0;34m)\u001b[0m\u001b[0;34m\u001b[0m\u001b[0m\n\u001b[0m\u001b[1;32m     66\u001b[0m     \u001b[0mgt_labels\u001b[0m \u001b[0;34m=\u001b[0m \u001b[0mpre_post_labels\u001b[0m\u001b[0;34m(\u001b[0m\u001b[0mgt_locations\u001b[0m\u001b[0;34m,\u001b[0m \u001b[0mgt_segmentation\u001b[0m\u001b[0;34m)\u001b[0m\u001b[0;34m\u001b[0m\u001b[0m\n\u001b[1;32m     67\u001b[0m \u001b[0;34m\u001b[0m\u001b[0m\n",
      "\u001b[0;32m<ipython-input-6-70396024d669>\u001b[0m in \u001b[0;36mpre_post_labels\u001b[0;34m(locations, segmentation)\u001b[0m\n\u001b[1;32m     93\u001b[0m \u001b[0;32mdef\u001b[0m \u001b[0mpre_post_labels\u001b[0m\u001b[0;34m(\u001b[0m\u001b[0mlocations\u001b[0m\u001b[0;34m,\u001b[0m \u001b[0msegmentation\u001b[0m\u001b[0;34m)\u001b[0m\u001b[0;34m:\u001b[0m\u001b[0;34m\u001b[0m\u001b[0m\n\u001b[1;32m     94\u001b[0m \u001b[0;34m\u001b[0m\u001b[0m\n\u001b[0;32m---> 95\u001b[0;31m     \u001b[0;32mreturn\u001b[0m \u001b[0;34m[\u001b[0m \u001b[0;34m(\u001b[0m\u001b[0msegmentation\u001b[0m\u001b[0;34m[\u001b[0m\u001b[0mpre\u001b[0m\u001b[0;34m]\u001b[0m\u001b[0;34m,\u001b[0m \u001b[0msegmentation\u001b[0m\u001b[0;34m[\u001b[0m\u001b[0mpost\u001b[0m\u001b[0;34m]\u001b[0m\u001b[0;34m)\u001b[0m \u001b[0;32mfor\u001b[0m \u001b[0;34m(\u001b[0m\u001b[0mpre\u001b[0m\u001b[0;34m,\u001b[0m \u001b[0mpost\u001b[0m\u001b[0;34m)\u001b[0m \u001b[0;32min\u001b[0m \u001b[0mlocations\u001b[0m \u001b[0;34m]\u001b[0m\u001b[0;34m\u001b[0m\u001b[0m\n\u001b[0m\u001b[1;32m     96\u001b[0m \u001b[0;34m\u001b[0m\u001b[0m\n\u001b[1;32m     97\u001b[0m \u001b[0;34m\u001b[0m\u001b[0m\n",
      "\u001b[0;32m<ipython-input-6-70396024d669>\u001b[0m in \u001b[0;36m<listcomp>\u001b[0;34m(.0)\u001b[0m\n\u001b[1;32m     93\u001b[0m \u001b[0;32mdef\u001b[0m \u001b[0mpre_post_labels\u001b[0m\u001b[0;34m(\u001b[0m\u001b[0mlocations\u001b[0m\u001b[0;34m,\u001b[0m \u001b[0msegmentation\u001b[0m\u001b[0;34m)\u001b[0m\u001b[0;34m:\u001b[0m\u001b[0;34m\u001b[0m\u001b[0m\n\u001b[1;32m     94\u001b[0m \u001b[0;34m\u001b[0m\u001b[0m\n\u001b[0;32m---> 95\u001b[0;31m     \u001b[0;32mreturn\u001b[0m \u001b[0;34m[\u001b[0m \u001b[0;34m(\u001b[0m\u001b[0msegmentation\u001b[0m\u001b[0;34m[\u001b[0m\u001b[0mpre\u001b[0m\u001b[0;34m]\u001b[0m\u001b[0;34m,\u001b[0m \u001b[0msegmentation\u001b[0m\u001b[0;34m[\u001b[0m\u001b[0mpost\u001b[0m\u001b[0;34m]\u001b[0m\u001b[0;34m)\u001b[0m \u001b[0;32mfor\u001b[0m \u001b[0;34m(\u001b[0m\u001b[0mpre\u001b[0m\u001b[0;34m,\u001b[0m \u001b[0mpost\u001b[0m\u001b[0;34m)\u001b[0m \u001b[0;32min\u001b[0m \u001b[0mlocations\u001b[0m \u001b[0;34m]\u001b[0m\u001b[0;34m\u001b[0m\u001b[0m\n\u001b[0m\u001b[1;32m     96\u001b[0m \u001b[0;34m\u001b[0m\u001b[0m\n\u001b[1;32m     97\u001b[0m \u001b[0;34m\u001b[0m\u001b[0m\n",
      "\u001b[0;32m<ipython-input-16-ddde55acc569>\u001b[0m in \u001b[0;36m__getitem__\u001b[0;34m(self, location)\u001b[0m\n\u001b[1;32m     95\u001b[0m                 \u001b[0;32mraise\u001b[0m \u001b[0mIndexError\u001b[0m\u001b[0;34m(\u001b[0m\u001b[0;34m\"location \"\u001b[0m \u001b[0;34m+\u001b[0m \u001b[0mstr\u001b[0m\u001b[0;34m(\u001b[0m\u001b[0mlocation\u001b[0m\u001b[0;34m)\u001b[0m \u001b[0;34m+\u001b[0m \u001b[0;34m\" does not lie inside volume: \"\u001b[0m \u001b[0;34m+\u001b[0m \u001b[0mstr\u001b[0m\u001b[0;34m(\u001b[0m\u001b[0me\u001b[0m\u001b[0;34m)\u001b[0m\u001b[0;34m)\u001b[0m\u001b[0;34m\u001b[0m\u001b[0m\n\u001b[1;32m     96\u001b[0m \u001b[0;34m\u001b[0m\u001b[0m\n\u001b[0;32m---> 97\u001b[0;31m         \u001b[0;32mraise\u001b[0m \u001b[0mIndexError\u001b[0m\u001b[0;34m(\u001b[0m\u001b[0;34m\"location \"\u001b[0m \u001b[0;34m+\u001b[0m \u001b[0mstr\u001b[0m\u001b[0;34m(\u001b[0m\u001b[0mlocation\u001b[0m\u001b[0;34m)\u001b[0m \u001b[0;34m+\u001b[0m \u001b[0;34m\" does not lie inside volume\"\u001b[0m\u001b[0;34m)\u001b[0m\u001b[0;34m\u001b[0m\u001b[0m\n\u001b[0m\u001b[1;32m     98\u001b[0m \u001b[0;34m\u001b[0m\u001b[0m\n\u001b[1;32m     99\u001b[0m     \u001b[0;32mdef\u001b[0m \u001b[0m__setitem__\u001b[0m\u001b[0;34m(\u001b[0m\u001b[0mself\u001b[0m\u001b[0;34m,\u001b[0m \u001b[0mlocation\u001b[0m\u001b[0;34m,\u001b[0m \u001b[0mvalue\u001b[0m\u001b[0;34m)\u001b[0m\u001b[0;34m:\u001b[0m\u001b[0;34m\u001b[0m\u001b[0m\n",
      "\u001b[0;31mIndexError\u001b[0m: location (-1488.0, -3585.0, -3582.0) does not lie inside volume"
     ]
    }
   ],
   "source": [
    "fscore = synaptic_partners_evaluation.fscore(annotations,annotations, truth.read_neuron_ids())\n"
   ]
  },
  {
   "cell_type": "code",
   "execution_count": 32,
   "metadata": {},
   "outputs": [
    {
     "name": "stdout",
     "output_type": "stream",
     "text": [
      "Computing matching costs...\n",
      "0 potential matches found\n",
      "Finding cost-minimal matches...\n",
      "0 matches found\n"
     ]
    },
    {
     "ename": "ZeroDivisionError",
     "evalue": "float division by zero",
     "output_type": "error",
     "traceback": [
      "\u001b[0;31m---------------------------------------------------------------------------\u001b[0m",
      "\u001b[0;31mZeroDivisionError\u001b[0m                         Traceback (most recent call last)",
      "\u001b[0;32m<ipython-input-32-3cc2cfb5d1c7>\u001b[0m in \u001b[0;36m<module>\u001b[0;34m()\u001b[0m\n\u001b[0;32m----> 1\u001b[0;31m \u001b[0mfscore\u001b[0m \u001b[0;34m=\u001b[0m \u001b[0msynaptic_partners_evaluation\u001b[0m\u001b[0;34m.\u001b[0m\u001b[0mfscore\u001b[0m\u001b[0;34m(\u001b[0m\u001b[0mtestcremi\u001b[0m\u001b[0;34m.\u001b[0m\u001b[0mread_annotations\u001b[0m\u001b[0;34m(\u001b[0m\u001b[0;34m)\u001b[0m\u001b[0;34m,\u001b[0m \u001b[0mtruth\u001b[0m\u001b[0;34m.\u001b[0m\u001b[0mread_annotations\u001b[0m\u001b[0;34m(\u001b[0m\u001b[0;34m)\u001b[0m\u001b[0;34m,\u001b[0m \u001b[0mtruth\u001b[0m\u001b[0;34m.\u001b[0m\u001b[0mread_neuron_ids\u001b[0m\u001b[0;34m(\u001b[0m\u001b[0;34m)\u001b[0m\u001b[0;34m)\u001b[0m\u001b[0;34m\u001b[0m\u001b[0m\n\u001b[0m",
      "\u001b[0;32m<ipython-input-7-aaf3b2c175ef>\u001b[0m in \u001b[0;36mfscore\u001b[0;34m(self, rec_annotations, gt_annotations, gt_segmentation, all_stats)\u001b[0m\n\u001b[1;32m      9\u001b[0m     \u001b[0;32mdef\u001b[0m \u001b[0mfscore\u001b[0m\u001b[0;34m(\u001b[0m\u001b[0mself\u001b[0m\u001b[0;34m,\u001b[0m \u001b[0mrec_annotations\u001b[0m\u001b[0;34m,\u001b[0m \u001b[0mgt_annotations\u001b[0m\u001b[0;34m,\u001b[0m \u001b[0mgt_segmentation\u001b[0m\u001b[0;34m,\u001b[0m \u001b[0mall_stats\u001b[0m \u001b[0;34m=\u001b[0m \u001b[0;32mFalse\u001b[0m\u001b[0;34m)\u001b[0m\u001b[0;34m:\u001b[0m\u001b[0;34m\u001b[0m\u001b[0m\n\u001b[1;32m     10\u001b[0m \u001b[0;34m\u001b[0m\u001b[0m\n\u001b[0;32m---> 11\u001b[0;31m         \u001b[0;32mreturn\u001b[0m \u001b[0msynaptic_partners_fscore\u001b[0m\u001b[0;34m(\u001b[0m\u001b[0mrec_annotations\u001b[0m\u001b[0;34m,\u001b[0m \u001b[0mgt_annotations\u001b[0m\u001b[0;34m,\u001b[0m \u001b[0mgt_segmentation\u001b[0m\u001b[0;34m,\u001b[0m \u001b[0mself\u001b[0m\u001b[0;34m.\u001b[0m\u001b[0mmatching_threshold\u001b[0m\u001b[0;34m,\u001b[0m \u001b[0mall_stats\u001b[0m\u001b[0;34m)\u001b[0m\u001b[0;34m\u001b[0m\u001b[0m\n\u001b[0m",
      "\u001b[0;32m<ipython-input-6-70396024d669>\u001b[0m in \u001b[0;36msynaptic_partners_fscore\u001b[0;34m(rec_annotations, gt_annotations, gt_segmentation, matching_threshold, all_stats)\u001b[0m\n\u001b[1;32m     47\u001b[0m     \u001b[0mtp\u001b[0m \u001b[0;34m=\u001b[0m \u001b[0mlen\u001b[0m\u001b[0;34m(\u001b[0m\u001b[0mgt_annotations\u001b[0m\u001b[0;34m.\u001b[0m\u001b[0mpre_post_partners\u001b[0m\u001b[0;34m)\u001b[0m \u001b[0;34m-\u001b[0m \u001b[0mfn\u001b[0m\u001b[0;34m\u001b[0m\u001b[0m\n\u001b[1;32m     48\u001b[0m \u001b[0;34m\u001b[0m\u001b[0m\n\u001b[0;32m---> 49\u001b[0;31m     \u001b[0mprecision\u001b[0m \u001b[0;34m=\u001b[0m \u001b[0mfloat\u001b[0m\u001b[0;34m(\u001b[0m\u001b[0mtp\u001b[0m\u001b[0;34m)\u001b[0m\u001b[0;34m/\u001b[0m\u001b[0;34m(\u001b[0m\u001b[0mtp\u001b[0m \u001b[0;34m+\u001b[0m \u001b[0mfp\u001b[0m\u001b[0;34m)\u001b[0m\u001b[0;34m\u001b[0m\u001b[0m\n\u001b[0m\u001b[1;32m     50\u001b[0m     \u001b[0mrecall\u001b[0m \u001b[0;34m=\u001b[0m \u001b[0mfloat\u001b[0m\u001b[0;34m(\u001b[0m\u001b[0mtp\u001b[0m\u001b[0;34m)\u001b[0m\u001b[0;34m/\u001b[0m\u001b[0;34m(\u001b[0m\u001b[0mtp\u001b[0m \u001b[0;34m+\u001b[0m \u001b[0mfn\u001b[0m\u001b[0;34m)\u001b[0m\u001b[0;34m\u001b[0m\u001b[0m\n\u001b[1;32m     51\u001b[0m     \u001b[0mfscore\u001b[0m \u001b[0;34m=\u001b[0m \u001b[0;36m2.0\u001b[0m\u001b[0;34m*\u001b[0m\u001b[0mprecision\u001b[0m\u001b[0;34m*\u001b[0m\u001b[0mrecall\u001b[0m\u001b[0;34m/\u001b[0m\u001b[0;34m(\u001b[0m\u001b[0mprecision\u001b[0m \u001b[0;34m+\u001b[0m \u001b[0mrecall\u001b[0m\u001b[0;34m)\u001b[0m\u001b[0;34m\u001b[0m\u001b[0m\n",
      "\u001b[0;31mZeroDivisionError\u001b[0m: float division by zero"
     ]
    }
   ],
   "source": [
    "fscore = synaptic_partners_evaluation.fscore(testcremi.read_annotations(), truth.read_annotations(), truth.read_neuron_ids())\n"
   ]
  },
  {
   "cell_type": "markdown",
   "metadata": {},
   "source": [
    "### CremiFile class\n",
    "- nee Annotations, Volume"
   ]
  },
  {
   "cell_type": "code",
   "execution_count": 8,
   "metadata": {},
   "outputs": [],
   "source": [
    "class Annotations:\n",
    "\n",
    "    def __init__(self, offset = (0.0, 0.0, 0.0)):\n",
    "\n",
    "        self.__types = {}\n",
    "        self.__locations = {}\n",
    "        self.comments = {}\n",
    "        self.pre_post_partners = []\n",
    "        self.offset = offset\n",
    "\n",
    "    def __check(self, id):\n",
    "        if not id in self.__types.keys():\n",
    "            raise \"there is no annotation with id \" + str(id)\n",
    "\n",
    "    def add_annotation(self, id, type, location):\n",
    "        \"\"\"Add a new annotation.\n",
    "        Parameters\n",
    "        ----------\n",
    "            id: int\n",
    "                The ID of the new annotation.\n",
    "            type: string\n",
    "                A string denoting the type of the annotation. Use \n",
    "                \"presynaptic_site\" or \"postsynaptic_site\" for pre- and \n",
    "                post-synaptic annotations, respectively.\n",
    "            location: tuple, float\n",
    "                The location of the annotation, relative to the offset.\n",
    "        \"\"\"\n",
    "\n",
    "        self.__types[id] = type.encode('utf8')\n",
    "        self.__locations[id] = location\n",
    "\n",
    "    def add_comment(self, id, comment):\n",
    "        \"\"\"Add a comment to an annotation.\n",
    "        \"\"\"\n",
    "\n",
    "        self.__check(id)\n",
    "        self.comments[id] = comment.encode('utf8')\n",
    "\n",
    "    def set_pre_post_partners(self, pre_id, post_id):\n",
    "        \"\"\"Mark two annotations as pre- and post-synaptic partners.\n",
    "        \"\"\"\n",
    "\n",
    "        self.__check(pre_id)\n",
    "        self.__check(post_id)\n",
    "        self.pre_post_partners.append((pre_id, post_id))\n",
    "\n",
    "    def ids(self):\n",
    "        \"\"\"Get the ids of all annotations.\n",
    "        \"\"\"\n",
    "\n",
    "        return self.__types.keys()\n",
    "\n",
    "    def types(self):\n",
    "        \"\"\"Get the types of all annotations.\n",
    "        \"\"\"\n",
    "\n",
    "        return self.__types.values()\n",
    "\n",
    "    def locations(self):\n",
    "        \"\"\"Get the locations of all annotations. Locations are in world units, \n",
    "        relative to the offset.\n",
    "        \"\"\"\n",
    "\n",
    "        return self.__locations.values()\n",
    "\n",
    "    def get_annotation(self, id):\n",
    "        \"\"\"Get the type and location of an annotation by its id.\n",
    "        \"\"\"\n",
    "\n",
    "        self.__check(id)\n",
    "        return (self.__types[id], self.__locations[id])\n",
    "class Volume:\n",
    "\n",
    "    def __init__(self, data, resolution = (1.0, 1.0, 1.0), offset = (0.0, 0.0, 0.0), comment = \"\"):\n",
    "        self.data = data\n",
    "        self.resolution = resolution\n",
    "        self.offset = offset\n",
    "        self.comment = comment\n",
    "\n",
    "    def __getitem__(self, location):\n",
    "        \"\"\"Get the closest value of this volume to the given location. The \n",
    "        location is in world units, relative to the volumes offset.\n",
    "        This method takes into account the resolution of the volume. An \n",
    "        IndexError exception is raised if the location is not contained in this \n",
    "        volume.\n",
    "        To access the raw pixel values, use the `data` attribute.\n",
    "        \"\"\"\n",
    "\n",
    "        i = tuple([ round(location[d]/self.resolution[d]) for d in range(len(location)) ])\n",
    "\n",
    "        if min(i) >= 0:\n",
    "            try:\n",
    "                return self.data[i]\n",
    "            except IndexError as e:\n",
    "                raise IndexError(\"location \" + str(location) + \" does not lie inside volume: \" + str(e))\n",
    "\n",
    "        raise IndexError(\"location \" + str(location) + \" does not lie inside volume\")\n",
    "\n",
    "    def __setitem__(self, location, value):\n",
    "        \"\"\"Set the closest value of this volume to the given location. The \n",
    "        location is in world units, relative to the volumes offset.\n",
    "        This method takes into account the resolution of the volume. An \n",
    "        IndexError exception is raised if the location is not contained in this \n",
    "        volume.\n",
    "        To access the raw pixel values, use the `data` attribute.\n",
    "        \"\"\"\n",
    "\n",
    "        i = tuple([ round(location[d]/self.resolution[d]) for d in range(len(location)) ])\n",
    "\n",
    "        if min(i) >= 0:\n",
    "            try:\n",
    "                self.data[i] = value\n",
    "                return\n",
    "            except IndexError as e:\n",
    "                raise IndexError(\"location \" + str(location) + \" does not lie inside volume: \" + str(e))\n",
    "\n",
    "        raise IndexError(\"location \" + str(location) + \" does not lie inside volume\")"
   ]
  },
  {
   "cell_type": "code",
   "execution_count": 10,
   "metadata": {},
   "outputs": [],
   "source": [
    "class CremiFile(object):\n",
    "\n",
    "    def __init__(self, filename, mode):\n",
    "\n",
    "        self.h5file = h5py.File(filename, mode)\n",
    "\n",
    "        if mode == \"w\" or mode == \"a\":\n",
    "            self.h5file[\"/\"].attrs[\"file_format\"] = \"0.2\"\n",
    "\n",
    "    def __create_group(self, group):\n",
    "\n",
    "        path = \"/\"\n",
    "        for d in group.split(\"/\"):\n",
    "            path += d + \"/\"\n",
    "            try:\n",
    "                self.h5file.create_group(path)\n",
    "            except ValueError:\n",
    "                pass\n",
    "\n",
    "    def __create_dataset(self, path, data, dtype, compression = None):\n",
    "        \"\"\"Wrapper around h5py's create_dataset. Creates the group, if not \n",
    "        existing. Deletes a previous dataset, if existing and not compatible. \n",
    "        Otherwise, replaces the dataset.\n",
    "        \"\"\"\n",
    "\n",
    "        group = \"/\".join(path.split(\"/\")[:-1])\n",
    "        ds_name = path.split(\"/\")[-1]\n",
    "\n",
    "        self.__create_group(group)\n",
    "\n",
    "        if ds_name in self.h5file[group]:\n",
    "\n",
    "            ds = self.h5file[path]\n",
    "            if ds.dtype == dtype and ds.shape == np.array(data).shape:\n",
    "                print (\"overwriting existing dataset\")\n",
    "                self.h5file[path][:] = data[:]\n",
    "                return\n",
    "\n",
    "            del self.h5file[path]\n",
    "\n",
    "        self.h5file.create_dataset(path, data=data, dtype=dtype, compression=compression)\n",
    "\n",
    "    def write_volume(self, volume, ds_name, dtype):\n",
    "\n",
    "        self.__create_dataset(ds_name, data=volume.data, dtype=dtype, compression=\"gzip\")\n",
    "        self.h5file[ds_name].attrs[\"resolution\"] = volume.resolution\n",
    "        if volume.comment is not None:\n",
    "            self.h5file[ds_name].attrs[\"comment\"] = str(volume.comment)\n",
    "        if tuple(volume.offset) != (0.0, 0.0, 0.0):\n",
    "            self.h5file[ds_name].attrs[\"offset\"] = volume.offset\n",
    "\n",
    "    def read_volume(self, ds_name):\n",
    "\n",
    "        volume = Volume(self.h5file[ds_name])\n",
    "\n",
    "        volume.resolution = self.h5file[ds_name].attrs[\"resolution\"]\n",
    "        if \"offset\" in self.h5file[ds_name].attrs:\n",
    "            volume.offset = self.h5file[ds_name].attrs[\"offset\"]\n",
    "        if \"comment\" in self.h5file[ds_name].attrs:\n",
    "            volume.comment = self.h5file[ds_name].attrs[\"comment\"]\n",
    "\n",
    "        return volume\n",
    "\n",
    "    def __has_volume(self, ds_name):\n",
    "\n",
    "        return ds_name in self.h5file\n",
    "\n",
    "    def write_raw(self, raw):\n",
    "        \"\"\"Write a raw volume.\n",
    "        \"\"\"\n",
    "\n",
    "        self.write_volume(raw, \"/volumes/raw\", np.uint8)\n",
    "\n",
    "    def write_neuron_ids(self, neuron_ids):\n",
    "        \"\"\"Write a volume of segmented neurons.\n",
    "        \"\"\"\n",
    "\n",
    "        self.write_volume(neuron_ids, \"/volumes/labels/neuron_ids\", np.uint64)\n",
    "\n",
    "    def write_clefts(self, clefts):\n",
    "        \"\"\"Write a volume of segmented synaptic clefts.\n",
    "        \"\"\"\n",
    "\n",
    "        self.write_volume(clefts, \"/volumes/labels/clefts\", np.uint64)\n",
    "\n",
    "    def write_annotations(self, annotations):\n",
    "        \"\"\"Write pre- and post-synaptic site annotations.\n",
    "        \"\"\"\n",
    "\n",
    "        if len(annotations.ids()) == 0:\n",
    "            return\n",
    "\n",
    "        self.__create_group(\"/annotations\")\n",
    "        if tuple(annotations.offset) != (0.0, 0.0, 0.0):\n",
    "            self.h5file[\"/annotations\"].attrs[\"offset\"] = annotations.offset\n",
    "\n",
    "        #self.__create_dataset(\"/annotations/ids\", data=annotations.ids(), dtype=np.uint64)\n",
    "        self.__create_dataset(\"/annotations/ids\", data=np.fromiter(annotations.ids(), dtype=np.uint64), dtype=np.uint64)\n",
    "        #self.__create_dataset(\"/annotations/types\", data=annotations.types(), dtype=h5py.special_dtype(vlen=unicode), compression=\"gzip\")\n",
    "        self.__create_dataset(\"/annotations/types\", data=np.fromiter(annotations.types(), dtype=str), compression=\"gzip\")\n",
    "        #self.__create_dataset(\"/annotations/locations\", data=annotations.locations(), dtype=np.double)\n",
    "        self.__create_dataset(\"/annotations/locations\", data=np.fromiter(annotations.locations(),dtype=np.double), dtype=np.double)\n",
    "        \n",
    "        if len(annotations.comments) > 0:\n",
    "            self.__create_dataset(\"/annotations/comments/target_ids\", data=annotations.comments.keys(), dtype=np.uint64)\n",
    "            self.__create_dataset(\"/annotations/comments/comments\", data=annotations.comments.values(), dtype=h5py.special_dtype(vlen=unicode))\n",
    "\n",
    "        if len(annotations.pre_post_partners) > 0:\n",
    "            self.__create_dataset(\"/annotations/presynaptic_site/partners\", data=annotations.pre_post_partners, dtype=np.uint64)\n",
    "\n",
    "    def has_raw(self):\n",
    "        \"\"\"Check if this file contains a raw volume.\n",
    "        \"\"\"\n",
    "        return self.__has_volume(\"/volumes/raw\")\n",
    "\n",
    "    def has_neuron_ids(self):\n",
    "        \"\"\"Check if this file contains neuron ids.\n",
    "        \"\"\"\n",
    "        return self.__has_volume(\"/volumes/labels/neuron_ids\")\n",
    "\n",
    "    def has_neuron_ids_confidence(self):\n",
    "        \"\"\"Check if this file contains confidence information about neuron ids.\n",
    "        \"\"\"\n",
    "        return self.__has_volume(\"/volumes/labels/neuron_ids_confidence\")\n",
    "\n",
    "    def has_clefts(self):\n",
    "        \"\"\"Check if this file contains synaptic clefts.\n",
    "        \"\"\"\n",
    "        return self.__has_volume(\"/volumes/labels/clefts\")\n",
    "\n",
    "    def has_annotations(self):\n",
    "        \"\"\"Check if this file contains synaptic partner annotations.\n",
    "        \"\"\"\n",
    "        return \"/annotations\" in self.h5file\n",
    "\n",
    "    def has_segment_annotations(self):\n",
    "        \"\"\"Check if this file contains segment annotations.\n",
    "        \"\"\"\n",
    "        return \"/annotations\" in self.h5file\n",
    "\n",
    "    def read_raw(self):\n",
    "        \"\"\"Read the raw volume.\n",
    "        Returns a Volume.\n",
    "        \"\"\"\n",
    "\n",
    "        return self.read_volume(\"/volumes/raw\")\n",
    "\n",
    "    def read_neuron_ids(self):\n",
    "        \"\"\"Read the volume of segmented neurons.\n",
    "        Returns a Volume.\n",
    "        \"\"\"\n",
    "\n",
    "        return self.read_volume(\"/volumes/labels/neuron_ids\")\n",
    "\n",
    "    def read_neuron_ids_confidence(self):\n",
    "        \"\"\"Read confidence information about neuron ids.\n",
    "        Returns Confidences.\n",
    "        \"\"\"\n",
    "\n",
    "        confidences = Confidences(num_levels=2)\n",
    "        if not self.has_neuron_ids_confidence():\n",
    "            return confidences\n",
    "\n",
    "        data = self.h5file[\"/volumes/labels/neuron_ids_confidence\"]\n",
    "        i = 0\n",
    "        while i < len(data):\n",
    "            level = data[i]\n",
    "            i += 1\n",
    "            num_ids = data[i]\n",
    "            i += 1\n",
    "            confidences.add_all(level, data[i:i+num_ids])\n",
    "            i += num_ids\n",
    "\n",
    "        return confidences\n",
    "\n",
    "    def read_clefts(self):\n",
    "        \"\"\"Read the volume of segmented synaptic clefts.\n",
    "        Returns a Volume.\n",
    "        \"\"\"\n",
    "\n",
    "        return self.read_volume(\"/volumes/labels/clefts\")\n",
    "\n",
    "    def read_annotations(self):\n",
    "        \"\"\"Read pre- and post-synaptic site annotations.\n",
    "        \"\"\"\n",
    "\n",
    "        annotations = Annotations()\n",
    "\n",
    "        if not \"/annotations\" in self.h5file:\n",
    "            return annotations\n",
    "\n",
    "        offset = (0.0, 0.0, 0.0)\n",
    "        if \"offset\" in self.h5file[\"/annotations\"].attrs:\n",
    "            offset = self.h5file[\"/annotations\"].attrs[\"offset\"]\n",
    "        annotations.offset = offset\n",
    "\n",
    "        ids = self.h5file[\"/annotations/ids\"]\n",
    "        types = self.h5file[\"/annotations/types\"]\n",
    "        locations = self.h5file[\"/annotations/locations\"]\n",
    "        for i in range(len(ids)):\n",
    "            annotations.add_annotation(ids[i], types[i], locations[i])\n",
    "\n",
    "        if \"comments\" in self.h5file[\"/annotations\"]:\n",
    "            ids = self.h5file[\"/annotations/comments/target_ids\"]\n",
    "            comments = self.h5file[\"/annotations/comments/comments\"]\n",
    "            for (id, comment) in zip(ids, comments):\n",
    "                annotations.add_comment(id, comment)\n",
    "\n",
    "        if \"presynaptic_site/partners\" in self.h5file[\"/annotations\"]:\n",
    "            pre_post = self.h5file[\"/annotations/presynaptic_site/partners\"]\n",
    "            for (pre, post) in pre_post:\n",
    "                annotations.set_pre_post_partners(pre, post)\n",
    "\n",
    "        return annotations\n",
    "\n",
    "    def close(self):\n",
    "\n",
    "        self.h5file.close()"
   ]
  },
  {
   "cell_type": "markdown",
   "metadata": {},
   "source": [
    "## example File!"
   ]
  },
  {
   "cell_type": "code",
   "execution_count": 108,
   "metadata": {},
   "outputs": [],
   "source": [
    "# Create some dummy annotation data\n",
    "annotations = Annotations()\n",
    "for id in np.array([ 0, 1, 2, 3 ]):\n",
    "    location = (random.randint(0, 100), random.randint(0, 100), random.randint(0, 100))\n",
    "    annotations.add_annotation(id, \"presynaptic_site\", location)\n",
    "for id in [ 4, 5, 6, 7 ]:\n",
    "    location = (random.randint(0, 100), random.randint(0, 100), random.randint(0, 100))\n",
    "    annotations.add_annotation(id, \"postsynaptic_site\", location)\n",
    "for (pre, post) in [ (0, 4), (1, 5), (2, 6), (3, 7) ]:\n",
    "    annotations.set_pre_post_partners(pre, post)\n",
    "annotations.add_comment(6, \"unsure\")\n",
    "\n"
   ]
  },
  {
   "cell_type": "code",
   "execution_count": 109,
   "metadata": {},
   "outputs": [
    {
     "data": {
      "text/plain": [
       "(b'presynaptic_site', (32, 59, 62))"
      ]
     },
     "execution_count": 109,
     "metadata": {},
     "output_type": "execute_result"
    }
   ],
   "source": [
    "annotations.get_annotation(0)"
   ]
  },
  {
   "cell_type": "code",
   "execution_count": 110,
   "metadata": {},
   "outputs": [
    {
     "name": "stdout",
     "output_type": "stream",
     "text": [
      "overwriting existing dataset\n",
      "overwriting existing dataset\n",
      "overwriting existing dataset\n"
     ]
    }
   ],
   "source": [
    "# Open a file for writing (deletes previous file, if exists)\n",
    "file = CremiFile(\"example.hdf\",'r')\n",
    "\n",
    "# Write the raw volume. This is given here just for illustration. For your \n",
    "# submission, you don't need to store the raw data. We have it already.\n",
    "raw = Volume(np.zeros((10,100,100), dtype=np.uint8), resolution=(40.0, 4.0, 4.0))\n",
    "file.write_raw(raw)\n",
    "\n",
    "# Write volumes representing the neuron and synaptic cleft segmentation.\n",
    "neuron_ids = Volume(np.ones((10,100,100), dtype=np.uint64), resolution=(40.0, 4.0, 4.0), comment=\"just ones\")\n",
    "clefts = Volume(np.zeros((10,100,100), dtype=np.uint64), resolution=(40.0, 4.0, 4.0), comment=\"just zeros\")\n",
    "file.write_neuron_ids(neuron_ids)\n",
    "file.write_clefts(clefts)\n",
    "\n"
   ]
  },
  {
   "cell_type": "code",
   "execution_count": 111,
   "metadata": {},
   "outputs": [
    {
     "data": {
      "text/plain": [
       "dict_keys([0, 1, 2, 3, 4, 5, 6, 7])"
      ]
     },
     "execution_count": 111,
     "metadata": {},
     "output_type": "execute_result"
    }
   ],
   "source": [
    "annotations.ids()"
   ]
  },
  {
   "cell_type": "code",
   "execution_count": 112,
   "metadata": {},
   "outputs": [
    {
     "name": "stdout",
     "output_type": "stream",
     "text": [
      "dict_keys([0, 1, 2, 3, 4, 5, 6, 7])\n",
      "dict_values([b'presynaptic_site', b'presynaptic_site', b'presynaptic_site', b'presynaptic_site', b'postsynaptic_site', b'postsynaptic_site', b'postsynaptic_site', b'postsynaptic_site'])\n",
      "dict_values([(32, 59, 62), (70, 5, 72), (78, 27, 47), (20, 98, 81), (71, 42, 10), (61, 98, 15), (39, 77, 98), (30, 88, 36)])\n"
     ]
    }
   ],
   "source": [
    "print (annotations.ids())\n",
    "print (annotations.types())\n",
    "print (annotations.locations())"
   ]
  },
  {
   "cell_type": "code",
   "execution_count": 92,
   "metadata": {},
   "outputs": [
    {
     "data": {
      "text/plain": [
       "array([0, 1, 2, 3, 4, 5, 6, 7], dtype=uint64)"
      ]
     },
     "execution_count": 92,
     "metadata": {},
     "output_type": "execute_result"
    }
   ],
   "source": [
    "np.fromiter(annotations.ids(), dtype=np.uint64)"
   ]
  },
  {
   "cell_type": "code",
   "execution_count": 106,
   "metadata": {},
   "outputs": [
    {
     "ename": "ValueError",
     "evalue": "setting an array element with a sequence.",
     "output_type": "error",
     "traceback": [
      "\u001b[0;31m---------------------------------------------------------------------------\u001b[0m",
      "\u001b[0;31mValueError\u001b[0m                                Traceback (most recent call last)",
      "\u001b[0;32m<ipython-input-106-ab3a1c725df5>\u001b[0m in \u001b[0;36m<module>\u001b[0;34m()\u001b[0m\n\u001b[0;32m----> 1\u001b[0;31m \u001b[0mnp\u001b[0m\u001b[0;34m.\u001b[0m\u001b[0mfromiter\u001b[0m\u001b[0;34m(\u001b[0m\u001b[0mannotations\u001b[0m\u001b[0;34m.\u001b[0m\u001b[0mlocations\u001b[0m\u001b[0;34m(\u001b[0m\u001b[0;34m)\u001b[0m\u001b[0;34m,\u001b[0m \u001b[0mdtype\u001b[0m\u001b[0;34m=\u001b[0m\u001b[0mnp\u001b[0m\u001b[0;34m.\u001b[0m\u001b[0muint64\u001b[0m\u001b[0;34m)\u001b[0m\u001b[0;34m\u001b[0m\u001b[0m\n\u001b[0m",
      "\u001b[0;31mValueError\u001b[0m: setting an array element with a sequence."
     ]
    }
   ],
   "source": [
    "np.fromiter(annotations.locations(), dtype=np.uint64)"
   ]
  },
  {
   "cell_type": "code",
   "execution_count": 98,
   "metadata": {},
   "outputs": [
    {
     "data": {
      "text/plain": [
       "dict_values([b'presynaptic_site', b'presynaptic_site', b'presynaptic_site', b'presynaptic_site', b'postsynaptic_site', b'postsynaptic_site', b'postsynaptic_site', b'postsynaptic_site'])"
      ]
     },
     "execution_count": 98,
     "metadata": {},
     "output_type": "execute_result"
    }
   ],
   "source": [
    "annotations.types()"
   ]
  },
  {
   "cell_type": "code",
   "execution_count": 107,
   "metadata": {},
   "outputs": [
    {
     "data": {
      "text/plain": [
       "array([72, 71, 35, 68,  6, 72, 22, 72, 49, 38, 75, 38, 33, 55, 71, 27, 76,\n",
       "       99, 85, 39, 51, 87, 87, 79])"
      ]
     },
     "execution_count": 107,
     "metadata": {},
     "output_type": "execute_result"
    }
   ],
   "source": [
    "np.array(list(chain.from_iterable(annotations.locations())))"
   ]
  },
  {
   "cell_type": "code",
   "execution_count": 105,
   "metadata": {},
   "outputs": [
    {
     "data": {
      "text/plain": [
       "[112,\n",
       " 114,\n",
       " 101,\n",
       " 115,\n",
       " 121,\n",
       " 110,\n",
       " 97,\n",
       " 112,\n",
       " 116,\n",
       " 105,\n",
       " 99,\n",
       " 95,\n",
       " 115,\n",
       " 105,\n",
       " 116,\n",
       " 101,\n",
       " 112,\n",
       " 114,\n",
       " 101,\n",
       " 115,\n",
       " 121,\n",
       " 110,\n",
       " 97,\n",
       " 112,\n",
       " 116,\n",
       " 105,\n",
       " 99,\n",
       " 95,\n",
       " 115,\n",
       " 105,\n",
       " 116,\n",
       " 101,\n",
       " 112,\n",
       " 114,\n",
       " 101,\n",
       " 115,\n",
       " 121,\n",
       " 110,\n",
       " 97,\n",
       " 112,\n",
       " 116,\n",
       " 105,\n",
       " 99,\n",
       " 95,\n",
       " 115,\n",
       " 105,\n",
       " 116,\n",
       " 101,\n",
       " 112,\n",
       " 114,\n",
       " 101,\n",
       " 115,\n",
       " 121,\n",
       " 110,\n",
       " 97,\n",
       " 112,\n",
       " 116,\n",
       " 105,\n",
       " 99,\n",
       " 95,\n",
       " 115,\n",
       " 105,\n",
       " 116,\n",
       " 101,\n",
       " 112,\n",
       " 111,\n",
       " 115,\n",
       " 116,\n",
       " 115,\n",
       " 121,\n",
       " 110,\n",
       " 97,\n",
       " 112,\n",
       " 116,\n",
       " 105,\n",
       " 99,\n",
       " 95,\n",
       " 115,\n",
       " 105,\n",
       " 116,\n",
       " 101,\n",
       " 112,\n",
       " 111,\n",
       " 115,\n",
       " 116,\n",
       " 115,\n",
       " 121,\n",
       " 110,\n",
       " 97,\n",
       " 112,\n",
       " 116,\n",
       " 105,\n",
       " 99,\n",
       " 95,\n",
       " 115,\n",
       " 105,\n",
       " 116,\n",
       " 101,\n",
       " 112,\n",
       " 111,\n",
       " 115,\n",
       " 116,\n",
       " 115,\n",
       " 121,\n",
       " 110,\n",
       " 97,\n",
       " 112,\n",
       " 116,\n",
       " 105,\n",
       " 99,\n",
       " 95,\n",
       " 115,\n",
       " 105,\n",
       " 116,\n",
       " 101,\n",
       " 112,\n",
       " 111,\n",
       " 115,\n",
       " 116,\n",
       " 115,\n",
       " 121,\n",
       " 110,\n",
       " 97,\n",
       " 112,\n",
       " 116,\n",
       " 105,\n",
       " 99,\n",
       " 95,\n",
       " 115,\n",
       " 105,\n",
       " 116,\n",
       " 101]"
      ]
     },
     "execution_count": 105,
     "metadata": {},
     "output_type": "execute_result"
    }
   ],
   "source": [
    "list(chain.from_iterable(annotations.types()))"
   ]
  },
  {
   "cell_type": "code",
   "execution_count": 100,
   "metadata": {},
   "outputs": [],
   "source": [
    "from itertools import chain"
   ]
  },
  {
   "cell_type": "code",
   "execution_count": 101,
   "metadata": {},
   "outputs": [
    {
     "name": "stdout",
     "output_type": "stream",
     "text": [
      "overwriting existing dataset\n"
     ]
    },
    {
     "ename": "ValueError",
     "evalue": "Must specify length when using variable-size data-type.",
     "output_type": "error",
     "traceback": [
      "\u001b[0;31m---------------------------------------------------------------------------\u001b[0m",
      "\u001b[0;31mValueError\u001b[0m                                Traceback (most recent call last)",
      "\u001b[0;32m<ipython-input-101-2932cabf3c71>\u001b[0m in \u001b[0;36m<module>\u001b[0;34m()\u001b[0m\n\u001b[1;32m      1\u001b[0m \u001b[0;31m# Write synaptic partner annotations.\u001b[0m\u001b[0;34m\u001b[0m\u001b[0;34m\u001b[0m\u001b[0m\n\u001b[0;32m----> 2\u001b[0;31m \u001b[0mfile\u001b[0m\u001b[0;34m.\u001b[0m\u001b[0mwrite_annotations\u001b[0m\u001b[0;34m(\u001b[0m\u001b[0mannotations\u001b[0m\u001b[0;34m)\u001b[0m\u001b[0;34m\u001b[0m\u001b[0m\n\u001b[0m",
      "\u001b[0;32m<ipython-input-86-3871a6073616>\u001b[0m in \u001b[0;36mwrite_annotations\u001b[0;34m(self, annotations)\u001b[0m\n\u001b[1;32m     98\u001b[0m         \u001b[0mself\u001b[0m\u001b[0;34m.\u001b[0m\u001b[0m__create_dataset\u001b[0m\u001b[0;34m(\u001b[0m\u001b[0;34m\"/annotations/ids\"\u001b[0m\u001b[0;34m,\u001b[0m \u001b[0mdata\u001b[0m\u001b[0;34m=\u001b[0m\u001b[0mnp\u001b[0m\u001b[0;34m.\u001b[0m\u001b[0mfromiter\u001b[0m\u001b[0;34m(\u001b[0m\u001b[0mannotations\u001b[0m\u001b[0;34m.\u001b[0m\u001b[0mids\u001b[0m\u001b[0;34m(\u001b[0m\u001b[0;34m)\u001b[0m\u001b[0;34m,\u001b[0m \u001b[0mdtype\u001b[0m\u001b[0;34m=\u001b[0m\u001b[0mnp\u001b[0m\u001b[0;34m.\u001b[0m\u001b[0muint64\u001b[0m\u001b[0;34m)\u001b[0m\u001b[0;34m,\u001b[0m \u001b[0mdtype\u001b[0m\u001b[0;34m=\u001b[0m\u001b[0mnp\u001b[0m\u001b[0;34m.\u001b[0m\u001b[0muint64\u001b[0m\u001b[0;34m)\u001b[0m\u001b[0;34m\u001b[0m\u001b[0m\n\u001b[1;32m     99\u001b[0m         \u001b[0;31m#self.__create_dataset(\"/annotations/types\", data=annotations.types(), dtype=h5py.special_dtype(vlen=unicode), compression=\"gzip\")\u001b[0m\u001b[0;34m\u001b[0m\u001b[0;34m\u001b[0m\u001b[0m\n\u001b[0;32m--> 100\u001b[0;31m         \u001b[0mself\u001b[0m\u001b[0;34m.\u001b[0m\u001b[0m__create_dataset\u001b[0m\u001b[0;34m(\u001b[0m\u001b[0;34m\"/annotations/types\"\u001b[0m\u001b[0;34m,\u001b[0m \u001b[0mdata\u001b[0m\u001b[0;34m=\u001b[0m\u001b[0mnp\u001b[0m\u001b[0;34m.\u001b[0m\u001b[0mfromiter\u001b[0m\u001b[0;34m(\u001b[0m\u001b[0mannotations\u001b[0m\u001b[0;34m.\u001b[0m\u001b[0mtypes\u001b[0m\u001b[0;34m(\u001b[0m\u001b[0;34m)\u001b[0m\u001b[0;34m,\u001b[0m \u001b[0mdtype\u001b[0m\u001b[0;34m=\u001b[0m\u001b[0mstr\u001b[0m\u001b[0;34m)\u001b[0m\u001b[0;34m,\u001b[0m \u001b[0mcompression\u001b[0m\u001b[0;34m=\u001b[0m\u001b[0;34m\"gzip\"\u001b[0m\u001b[0;34m)\u001b[0m\u001b[0;34m\u001b[0m\u001b[0m\n\u001b[0m\u001b[1;32m    101\u001b[0m         \u001b[0;31m#self.__create_dataset(\"/annotations/locations\", data=annotations.locations(), dtype=np.double)\u001b[0m\u001b[0;34m\u001b[0m\u001b[0;34m\u001b[0m\u001b[0m\n\u001b[1;32m    102\u001b[0m         \u001b[0mself\u001b[0m\u001b[0;34m.\u001b[0m\u001b[0m__create_dataset\u001b[0m\u001b[0;34m(\u001b[0m\u001b[0;34m\"/annotations/locations\"\u001b[0m\u001b[0;34m,\u001b[0m \u001b[0mdata\u001b[0m\u001b[0;34m=\u001b[0m\u001b[0mnp\u001b[0m\u001b[0;34m.\u001b[0m\u001b[0mfromiter\u001b[0m\u001b[0;34m(\u001b[0m\u001b[0mannotations\u001b[0m\u001b[0;34m.\u001b[0m\u001b[0mlocations\u001b[0m\u001b[0;34m(\u001b[0m\u001b[0;34m)\u001b[0m\u001b[0;34m,\u001b[0m\u001b[0mdtype\u001b[0m\u001b[0;34m=\u001b[0m\u001b[0mnp\u001b[0m\u001b[0;34m.\u001b[0m\u001b[0mdouble\u001b[0m\u001b[0;34m)\u001b[0m\u001b[0;34m,\u001b[0m \u001b[0mdtype\u001b[0m\u001b[0;34m=\u001b[0m\u001b[0mnp\u001b[0m\u001b[0;34m.\u001b[0m\u001b[0mdouble\u001b[0m\u001b[0;34m)\u001b[0m\u001b[0;34m\u001b[0m\u001b[0m\n",
      "\u001b[0;31mValueError\u001b[0m: Must specify length when using variable-size data-type."
     ]
    }
   ],
   "source": [
    "# Write synaptic partner annotations.\n",
    "file.write_annotations(annotations)\n",
    "\n"
   ]
  },
  {
   "cell_type": "code",
   "execution_count": 77,
   "metadata": {},
   "outputs": [],
   "source": [
    "file.close()"
   ]
  },
  {
   "cell_type": "code",
   "execution_count": 26,
   "metadata": {},
   "outputs": [],
   "source": [
    "import skimage\n",
    "with h5py.File('data/public/sample_A_padded_20160501.hdf','r') as f:\n",
    "    rawA = f['volumes/raw'][:]\n",
    "    cleftsA = f['volumes/labels/clefts'][:]\n",
    "    neuronidA = f['volumes/labels/neuron_ids'][:]"
   ]
  },
  {
   "cell_type": "code",
   "execution_count": 27,
   "metadata": {},
   "outputs": [],
   "source": [
    "def convert(data):\n",
    "    data_ = np.copy(data)\n",
    "    data_[np.where( data==18446744073709551615)] =0\n",
    "    return data_"
   ]
  },
  {
   "cell_type": "code",
   "execution_count": 30,
   "metadata": {},
   "outputs": [
    {
     "data": {
      "text/plain": [
       "<matplotlib.image.AxesImage at 0x7f1d85428da0>"
      ]
     },
     "execution_count": 30,
     "metadata": {},
     "output_type": "execute_result"
    },
    {
     "data": {
      "image/png": "[encoded data removed]",
      "text/plain": [
       "<Figure size 216x216 with 1 Axes>"
      ]
     },
     "metadata": {},
     "output_type": "display_data"
    }
   ],
   "source": [
    "fig,ax = plt.subplots(1,figsize = (3,3))\n",
    "ax.imshow(convert(cleftsA[0]),cmap=cm.Greys)"
   ]
  },
  {
   "cell_type": "code",
   "execution_count": 29,
   "metadata": {},
   "outputs": [
    {
     "data": {
      "text/plain": [
       "(array([  0, 746, 754, 755, 756, 781, 788, 857, 858], dtype=uint64),\n",
       " array([1556765,     417,     602,     401,     422,     339,    1753,\n",
       "            708,    1093]))"
      ]
     },
     "execution_count": 29,
     "metadata": {},
     "output_type": "execute_result"
    }
   ],
   "source": [
    "np.unique(convert(cleftsA[0]),return_counts=True)"
   ]
  },
  {
   "cell_type": "code",
   "execution_count": 56,
   "metadata": {},
   "outputs": [],
   "source": [
    "def calculate_range(data):\n",
    "    uniqueseg = np.unique(convert(data))\n",
    "    position = {}  # left,right,down,up\n",
    "    for i in uniqueseg:\n",
    "        if i !=0:\n",
    "            xpos = np.where(data ==i)[0]\n",
    "            ypos = np.where(data ==i)[1]\n",
    "            position[i] = np.ndarray([4])\n",
    "            down,up,lef,rig = np.min(xpos),np.max(xpos),np.min(ypos),np.max(ypos)\n",
    "            position[i] = np.array([lef,rig,down,up])\n",
    "    return position"
   ]
  },
  {
   "cell_type": "code",
   "execution_count": 57,
   "metadata": {},
   "outputs": [],
   "source": [
    "dictest = calculate_range(convert(cleftsA[0]))"
   ]
  },
  {
   "cell_type": "code",
   "execution_count": 58,
   "metadata": {},
   "outputs": [
    {
     "data": {
      "text/plain": [
       "array([746, 754, 755, 756, 781, 788, 857, 858])"
      ]
     },
     "execution_count": 58,
     "metadata": {},
     "output_type": "execute_result"
    }
   ],
   "source": [
    "np.fromiter(dictest.keys(),dtype=int)"
   ]
  },
  {
   "cell_type": "code",
   "execution_count": 59,
   "metadata": {},
   "outputs": [
    {
     "data": {
      "text/plain": [
       "array([608, 661,  45,  56])"
      ]
     },
     "execution_count": 59,
     "metadata": {},
     "output_type": "execute_result"
    }
   ],
   "source": [
    "dictest[np.fromiter(dictest.keys(),dtype=int)[0]]"
   ]
  },
  {
   "cell_type": "code",
   "execution_count": 60,
   "metadata": {},
   "outputs": [],
   "source": [
    "def get_central(pointdict):\n",
    "    keys = np.fromiter(pointdict.keys(),dtype=int)\n",
    "    central = np.ndarray([keys.shape[0],2])\n",
    "    for i in range(keys.shape[0]):\n",
    "        down,up,lef,rig = pointdict[keys[i]] \n",
    "        central[i] = np.array([(down+up)/2,(lef+rig)/2])\n",
    "    return central"
   ]
  },
  {
   "cell_type": "code",
   "execution_count": 62,
   "metadata": {},
   "outputs": [
    {
     "data": {
      "text/plain": [
       "[<matplotlib.axis.YTick at 0x7f1e5b1088d0>,\n",
       " <matplotlib.axis.YTick at 0x7f1e5b1080f0>,\n",
       " <matplotlib.axis.YTick at 0x7f1e5b0f9f28>,\n",
       " <matplotlib.axis.YTick at 0x7f1e5b0b0908>,\n",
       " <matplotlib.axis.YTick at 0x7f1e5b0b0e48>,\n",
       " <matplotlib.axis.YTick at 0x7f1e5b0b73c8>]"
      ]
     },
     "execution_count": 62,
     "metadata": {},
     "output_type": "execute_result"
    },
    {
     "data": {
      "image/png": "[encoded data removed]",
      "text/plain": [
       "<Figure size 720x360 with 2 Axes>"
      ]
     },
     "metadata": {},
     "output_type": "display_data"
    }
   ],
   "source": [
    "fig,ax = plt.subplots(1,2,figsize = (10,5))\n",
    "ax[0].imshow(convert(cleftsA[0]) ,cmap=cm.Greys,origin='low')\n",
    "ax[1].scatter(get_central(dictest)[:,0],get_central(dictest)[:,1],cmap=cm.Greys)\n",
    "ax[1].set_xticks(np.arange(0,1500,250))\n",
    "ax[1].set_yticks(np.arange(0,1500,250))"
   ]
  },
  {
   "cell_type": "code",
   "execution_count": 14,
   "metadata": {},
   "outputs": [],
   "source": [
    "from skimage.morphology import convex_hull_object\n",
    "test = convex_hull_object(convert(cleftsA[0]))"
   ]
  },
  {
   "cell_type": "code",
   "execution_count": 32,
   "metadata": {},
   "outputs": [
    {
     "data": {
      "text/plain": [
       "<matplotlib.image.AxesImage at 0x7f1e5b7454e0>"
      ]
     },
     "execution_count": 32,
     "metadata": {},
     "output_type": "execute_result"
    },
    {
     "data": {
      "image/png": "[encoded data removed]",
      "text/plain": [
       "<Figure size 720x360 with 2 Axes>"
      ]
     },
     "metadata": {},
     "output_type": "display_data"
    }
   ],
   "source": [
    "fig,ax = plt.subplots(1,2,figsize = (10,5))\n",
    "ax[0].imshow(test ,cmap=cm.Greys)"
   ]
  },
  {
   "cell_type": "markdown",
   "metadata": {},
   "source": [
    "## visualize partner"
   ]
  },
  {
   "cell_type": "code",
   "execution_count": 4,
   "metadata": {},
   "outputs": [],
   "source": [
    "with h5py.File('data/public/sample_A_padded_20160501.hdf','r') as f:\n",
    "    rawA = f['volumes/raw'][:]\n",
    "    cleftsA = f['volumes/labels/clefts'][:]\n",
    "    neuronidA = f['volumes/labels/neuron_ids'][:]\n",
    "    annoidsA = f['annotations/ids'][:]\n",
    "    locationA = f['annotations/locations'][:]\n",
    "    presynapsesiteA = f['annotations/presynaptic_site/partners'][:]\n",
    "    targetidA = f['annotations/comments/target_ids'][:]\n",
    "    commentsA = f['annotations/comments/comments'][:]\n",
    "    #print (list(f['annotations/presynaptic_site']))"
   ]
  },
  {
   "cell_type": "code",
   "execution_count": null,
   "metadata": {},
   "outputs": [],
   "source": []
  }
 ],
 "metadata": {
  "kernelspec": {
   "display_name": "Python 3",
   "language": "python",
   "name": "python3"
  },
  "language_info": {
   "codemirror_mode": {
    "name": "ipython",
    "version": 3
   },
   "file_extension": ".py",
   "mimetype": "text/x-python",
   "name": "python",
   "nbconvert_exporter": "python",
   "pygments_lexer": "ipython3",
   "version": "3.6.5"
  },
  "toc": {
   "base_numbering": 1,
   "nav_menu": {},
   "number_sections": true,
   "sideBar": true,
   "skip_h1_title": false,
   "title_cell": "Table of Contents",
   "title_sidebar": "Contents",
   "toc_cell": false,
   "toc_position": {},
   "toc_section_display": true,
   "toc_window_display": false
  }
 },
 "nbformat": 4,
 "nbformat_minor": 2
}
