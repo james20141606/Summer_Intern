{
 "cells": [
  {
   "cell_type": "code",
   "execution_count": null,
   "metadata": {},
   "outputs": [],
   "source": [
    "import gc, argparse, sys, os, errno\n",
    "%pylab inline\n",
    "import numpy as np\n",
    "import pandas as pd\n",
    "import matplotlib.pyplot as plt\n",
    "#from beakerx import *\n",
    "plt.style.use('ggplot')\n",
    "import seaborn as sns\n",
    "sns.set()\n",
    "import h5py\n",
    "import os\n",
    "from tqdm import tqdm_notebook as tqdm\n",
    "import scipy\n",
    "import sklearn\n",
    "from scipy.stats import pearsonr\n",
    "import warnings\n",
    "warnings.filterwarnings('ignore')"
   ]
  },
  {
   "cell_type": "code",
   "execution_count": 1,
   "metadata": {},
   "outputs": [
    {
     "name": "stdout",
     "output_type": "stream",
     "text": [
      "/home/xupeng/projects/synapse\n"
     ]
    }
   ],
   "source": [
    "cd .."
   ]
  },
  {
   "cell_type": "markdown",
   "metadata": {},
   "source": [
    "## read 15 and 48 section of A"
   ]
  },
  {
   "cell_type": "code",
   "execution_count": 10,
   "metadata": {},
   "outputs": [],
   "source": [
    "crack_path = 'data/crack/'"
   ]
  },
  {
   "cell_type": "code",
   "execution_count": 11,
   "metadata": {},
   "outputs": [
    {
     "name": "stdout",
     "output_type": "stream",
     "text": [
      "\u001b[0m\u001b[01;34m9.7\u001b[0m/              \u001b[01;35mim015.png\u001b[0m              \u001b[01;35mim048_warp0_ip_db.png\u001b[0m\r\n",
      "align_0_15_1.hdf  \u001b[01;35mim015_reverse0.png\u001b[0m     \u001b[01;35mim048_warp0.png\u001b[0m\r\n",
      "align_0_15_2.hdf  \u001b[01;35mim015_warp0_ip_db.png\u001b[0m  \u001b[01;35mim048_warped1.png\u001b[0m\r\n",
      "align_0_48_1.hdf  \u001b[01;35mim015_warp0.png\u001b[0m        \u001b[01;35mim048_warped2.png\u001b[0m\r\n",
      "align_0_48_2.hdf  \u001b[01;35mim015_warped1.png\u001b[0m      \u001b[01;35mim049.png\u001b[0m\r\n",
      "align_1_15_1.hdf  \u001b[01;35mim015_warped2.png\u001b[0m      \u001b[01;35mim15_prediction1.png\u001b[0m\r\n",
      "align_1_15_2.hdf  \u001b[01;35mim016.png\u001b[0m              \u001b[01;35mim15_prediction2.png\u001b[0m\r\n",
      "align_1_48_1.hdf  \u001b[01;35mim047.png\u001b[0m              \u001b[01;35mim48_prediction1.png\u001b[0m\r\n",
      "align_1_48_2.hdf  \u001b[01;35mim048_p1.png\u001b[0m           \u001b[01;35mim48_prediction2.png\u001b[0m\r\n",
      "\u001b[01;35mim014.png\u001b[0m         \u001b[01;35mim048_p2.png\u001b[0m           im_A+_v2_200_nocrack.h5\r\n",
      "\u001b[01;35mim015_p1.png\u001b[0m      \u001b[01;35mim048.png\u001b[0m\r\n",
      "\u001b[01;35mim015_p2.png\u001b[0m      \u001b[01;35mim048_reverse0.png\u001b[0m\r\n"
     ]
    }
   ],
   "source": [
    "ls data/crack/"
   ]
  },
  {
   "cell_type": "markdown",
   "metadata": {},
   "source": [
    "### read predicted A"
   ]
  },
  {
   "cell_type": "code",
   "execution_count": 18,
   "metadata": {},
   "outputs": [],
   "source": [
    "pred_file_path = 'data/prediction/test_before_realignment/'\n",
    "pred_A = 'im_A+_v2_200_pred.h5'\n",
    "pred_B = 'im_B+_v2_200_pred.h5'\n",
    "pred_C = 'im_C+_v2_200_pred.h5'"
   ]
  },
  {
   "cell_type": "code",
   "execution_count": 19,
   "metadata": {},
   "outputs": [],
   "source": [
    "with h5py.File(pred_file_path+pred_A) as f:\n",
    "    prediction_14 = f['main'][14]\n",
    "    prediction_47 = f['main'][47]"
   ]
  },
  {
   "cell_type": "code",
   "execution_count": 20,
   "metadata": {},
   "outputs": [],
   "source": [
    "def get_roi(image,anotherimage):\n",
    "    img = np.copy(image)\n",
    "    img_ = np.copy(image)\n",
    "    labels = label(image)\n",
    "    img[np.where(labels[0]==1)] =0\n",
    "    img_[np.where(labels[0]==2)] =0\n",
    "    anoimg = np.copy(anotherimage)\n",
    "    anoimg_ = np.copy(anotherimage)\n",
    "    anoimg[np.where(labels[0]==1)] =0\n",
    "    anoimg_[np.where(labels[0]==2)] =0\n",
    "    return anoimg,anoimg_"
   ]
  },
  {
   "cell_type": "markdown",
   "metadata": {},
   "source": [
    "## process and save as png"
   ]
  },
  {
   "cell_type": "code",
   "execution_count": 29,
   "metadata": {},
   "outputs": [
    {
     "data": {
      "text/plain": [
       "'data/crack/tmp'"
      ]
     },
     "execution_count": 29,
     "metadata": {},
     "output_type": "execute_result"
    }
   ],
   "source": [
    "crack_path+'tmp'"
   ]
  },
  {
   "cell_type": "code",
   "execution_count": 36,
   "metadata": {},
   "outputs": [],
   "source": [
    "if os.path.exists(crack_path+'tmp'):\n",
    "    os.system('rm -rf '+crack_path+'tmp')\n",
    "    os.mkdir(crack_path+'tmp')\n",
    "else:\n",
    "    os.mkdir(crack_path+'tmp')"
   ]
  },
  {
   "cell_type": "code",
   "execution_count": 15,
   "metadata": {},
   "outputs": [],
   "source": [
    "scipy.misc.imsave(crack_path+'tmp/im15_prediction1.png',get_roi(scipy.misc.imread(crack_path+'im015_warp0.png'),prediction_14.T)[1])\n",
    "scipy.misc.imsave(crack_path+'tmp/im15_prediction2.png',get_roi(scipy.misc.imread(crack_path+'im015_warp0.png'),prediction_14.T)[0])\n",
    "scipy.misc.imsave(crack_path+'tmp/im48_prediction1.png',get_roi(scipy.misc.imread(crack_path+'im048_warp0.png'),prediction_47.T)[1])\n",
    "scipy.misc.imsave(crack_path+'tmp/im48_prediction2.png',get_roi(scipy.misc.imread(crack_path+'im048_warp0.png'),prediction_47.T)[0])"
   ]
  },
  {
   "cell_type": "markdown",
   "metadata": {},
   "source": [
    "## matlab script to deal with crack(translated to python)"
   ]
  },
  {
   "cell_type": "code",
   "execution_count": 91,
   "metadata": {},
   "outputs": [
    {
     "name": "stdout",
     "output_type": "stream",
     "text": [
      "\u001b[0m\u001b[01;34m9.7\u001b[0m/              \u001b[01;35mim015.png\u001b[0m              \u001b[01;35mim048_warp0_ip_db.png\u001b[0m\r\n",
      "align_0_15_1.hdf  \u001b[01;35mim015_reverse0.png\u001b[0m     \u001b[01;35mim048_warp0.png\u001b[0m\r\n",
      "align_0_15_2.hdf  \u001b[01;35mim015_warp0_ip_db.png\u001b[0m  \u001b[01;35mim048_warped1.png\u001b[0m\r\n",
      "align_0_48_1.hdf  \u001b[01;35mim015_warp0.png\u001b[0m        \u001b[01;35mim048_warped2.png\u001b[0m\r\n",
      "align_0_48_2.hdf  \u001b[01;35mim015_warped1.png\u001b[0m      \u001b[01;35mim049.png\u001b[0m\r\n",
      "align_1_15_1.hdf  \u001b[01;35mim015_warped2.png\u001b[0m      \u001b[01;35mim15_prediction1.png\u001b[0m\r\n",
      "align_1_15_2.hdf  \u001b[01;35mim016.png\u001b[0m              \u001b[01;35mim15_prediction2.png\u001b[0m\r\n",
      "align_1_48_1.hdf  \u001b[01;35mim047.png\u001b[0m              \u001b[01;35mim48_prediction1.png\u001b[0m\r\n",
      "align_1_48_2.hdf  \u001b[01;35mim048_p1.png\u001b[0m           \u001b[01;35mim48_prediction2.png\u001b[0m\r\n",
      "\u001b[01;35mim014.png\u001b[0m         \u001b[01;35mim048_p2.png\u001b[0m           im_A+_v2_200_nocrack.h5\r\n",
      "\u001b[01;35mim015_p1.png\u001b[0m      \u001b[01;35mim048.png\u001b[0m              \u001b[01;34mtmp\u001b[0m/\r\n",
      "\u001b[01;35mim015_p2.png\u001b[0m      \u001b[01;35mim048_reverse0.png\u001b[0m\r\n"
     ]
    }
   ],
   "source": [
    "ls data/crack/"
   ]
  },
  {
   "cell_type": "code",
   "execution_count": 93,
   "metadata": {
    "deletable": false,
    "editable": false,
    "run_control": {
     "frozen": true
    }
   },
   "outputs": [],
   "source": [
    "ind = [15,48]\n",
    "vid = 0\n",
    "for i in ind:\n",
    "    for j in np.arange(1,3):\n",
    "        #print ('data/crack/im'+'{0:03}'.format(i)+'_warped'+'{0:01}'.format(j)+'.png')\n",
    "        im = imread('data/crack/im'+'{0:03}'.format(i)+'_warped'+'{0:01}'.format(j)+'.png')\n",
    "        sz = im.shape\n",
    "        tmp = h5py.File('data/crack/align_'+str(vid)+'_'+str(i)+'_'+str(j)+'.hdf')['main'][:]\n",
    "        tmpp = tmp[1]\n",
    "        if j ==1:\n",
    "            B = imwarp(im, invert(affine2d(tmpp)),'FillValues',0,'OutputView',imref2d(sz))\n",
    "        else:\n",
    "            B = B+imwarp(im, invert(affine2d(tmpp)),'FillValues',0,'OutputView',imref2d(sz))\n",
    "    imwrite('data/crack/im'+'{0:03}'.format(i)+'_reversed'+'{0:01}'.format(vid)+'.png',B)   "
   ]
  },
  {
   "cell_type": "code",
   "execution_count": null,
   "metadata": {},
   "outputs": [],
   "source": []
  },
  {
   "cell_type": "markdown",
   "metadata": {},
   "source": [
    "## read png and replace original 15 and 48"
   ]
  },
  {
   "cell_type": "code",
   "execution_count": null,
   "metadata": {},
   "outputs": [],
   "source": [
    "with h5py.File(pred_file_path+pred_A) as f:\n",
    "    resultsA_reverse1 = f['main'][:]\n",
    "resultsA_reverse1[14] = scipy.misc.imread(crack_path+'im015_reverse0.png').T\n",
    "resultsA_reverse1[47] = scipy.misc.imread(crack_path+'im048_reverse0.png').T\n",
    "with h5py.File(pred_file_path+'im_A+_v2_200_pred_add_crack.h5') as f:\n",
    "    f.create_dataset('main',data=resultsA_reverse1)"
   ]
  },
  {
   "cell_type": "markdown",
   "metadata": {},
   "source": [
    "## reverse all A, B, C using matlab script(translated  to python)"
   ]
  },
  {
   "cell_type": "markdown",
   "metadata": {},
   "source": [
    "#### test if the script is right:\n",
    "- pred_file_path\n",
    "\n",
    "    - data/prediction/test_before_realignment\n",
    "    - im_A+_v2_200_pred.h5,im_B+_v2_200_pred.h5,im_C+_v2_200_pred.h5\n",
    "- reversed:\n",
    "    - data/reverse\n",
    "    - results_new_A+_v2_200.h5,results_new_B+_v2_200.h5,results_new_C+_v2_200.h5"
   ]
  },
  {
   "cell_type": "code",
   "execution_count": 38,
   "metadata": {
    "deletable": false,
    "editable": false,
    "run_control": {
     "frozen": true
    }
   },
   "outputs": [],
   "source": [
    "volume_name = np.array(['A','B','C','A+','B+','C+'])\n",
    "bad_slices = np.array([[143],[1,29,30,58,59,91],[28,88,100],\n",
    "    [65,93,94,122,123,125],[1,29,30,58,59,91],[28,88,100]])\n",
    "\n",
    "gg = np.array([[142],[0,28,31,57,60,90],[27,87,99],\n",
    "    [64,92,95,121,124,126],[0,28,31,57,60,90],[27,87,99]])\n",
    "\n",
    "new_align_sz = np.array([[1727,1842],[2069,1748],[1986,2036],\n",
    "                         [1741,1912],[2898,1937],[1914,1983]]) \n",
    "def align2origin(prediction_path,reverse_path):\n",
    "    nn=volume_name\n",
    "    sz = new_align_sz\n",
    "    for nid in np.arange(4,6):\n",
    "        vol = nn[nid]\n",
    "        print (vol)\n",
    "        pw=0\n",
    "        ph=0\n",
    "        if vol =='B+':\n",
    "            ph=700\n",
    "        # load/crop result\n",
    "        result = h5py.File(prediction_path+'/im_'+vol+'_v2_200_pred.h5')['main'][:]\n",
    "        sz_r = result.shape\n",
    "        print ('shape: ', sz_r)\n",
    "        sz_bd = np.round((sz_r - np.array([125,sz[nid][0]-400,sz[nid][0]-400]))/2.).astype('int')\n",
    "        print (sz_bd)\n",
    "        result = result[sz_bd[0]:-sz_bd[0], sz_bd[1]:-sz_bd[1], sz_bd[2]:-sz_bd[2]]\n",
    "\n",
    "        pp = np.cumsum(np.loadtxt('data/align/trans_'+vol+'_v2.txt',delimiter=','),axis=0)\n",
    "        pp = pp[76] - pp\n",
    "        ww = np.ceil([np.max(pp[:,0]),np.max(pp[:,1]),-np.min(pp[:,0]),-np.min(pp[:,1])]).astype('int')\n",
    "        #pp=pp[14:-14,:]\n",
    "        # 1250+200*2\n",
    "        print ('result shape', result.shape)\n",
    "        result_o = np.zeros([125,1250,1250],'uint16');\n",
    "        for i in range(125):\n",
    "            pd = np.round(pp[i+14-1,:]).astype('int') \n",
    "            tmp = np.zeros([3072,3072])\n",
    "            tmp2 = np.pad(tmp,(ph,pw),'symmetric')\n",
    "            print (tmp2.shape)\n",
    "            print (pd,ww,ph)\n",
    "            print ([(911+pd[0]-ww[0]+ph),(910+pd[0]+1250+ww[2]+ph),\n",
    "                    (911+pd[1]-ww[1]+pw),(910+pd[1]+1250+ww[3]+pw)])\n",
    "            print ([(910+pd[0]+1250+ww[2]+ph)-(911+pd[0]-ww[0]+ph),\n",
    "                    (910+pd[1]+1250+ww[3]+pw)-(911+pd[1]-ww[1]+pw)])\n",
    "            tmp2[(911+pd[0]-ww[0]+ph):(910+pd[0]+1250+ww[2]+ph),\n",
    "                    (911+pd[1]-ww[1]+pw):(910+pd[1]+1250+ww[3]+pw)] = result[i,:,:]\n",
    "            result_o[i,:,:] = tmp2[ph+911:ph+910+1250,pw+911:pw+910+1250]\n",
    "        with h5py.File(reverse_path+'results_new_'+vol+'.h5') as f:\n",
    "            f.create_dataset('main',data = result_o)\n",
    "        print ('save reversed result: '+vol)"
   ]
  },
  {
   "cell_type": "code",
   "execution_count": null,
   "metadata": {
    "deletable": false,
    "editable": false,
    "run_control": {
     "frozen": true
    }
   },
   "outputs": [],
   "source": [
    "align2origin(prediction_path='data/prediction/test_before_realignment/',reverse_path='data/reverse/9.10_test/')"
   ]
  }
 ],
 "metadata": {
  "kernelspec": {
   "display_name": "Python 3",
   "language": "python",
   "name": "python3"
  },
  "language_info": {
   "codemirror_mode": {
    "name": "ipython",
    "version": 3
   },
   "file_extension": ".py",
   "mimetype": "text/x-python",
   "name": "python",
   "nbconvert_exporter": "python",
   "pygments_lexer": "ipython3",
   "version": "3.6.5"
  },
  "toc": {
   "base_numbering": 1,
   "nav_menu": {},
   "number_sections": true,
   "sideBar": true,
   "skip_h1_title": false,
   "title_cell": "Table of Contents",
   "title_sidebar": "Contents",
   "toc_cell": false,
   "toc_position": {},
   "toc_section_display": true,
   "toc_window_display": false
  }
 },
 "nbformat": 4,
 "nbformat_minor": 2
}
