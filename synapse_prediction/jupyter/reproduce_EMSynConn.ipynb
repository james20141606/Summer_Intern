{
 "cells": [
  {
   "cell_type": "code",
   "execution_count": 1,
   "metadata": {},
   "outputs": [
    {
     "name": "stdout",
     "output_type": "stream",
     "text": [
      "Populating the interactive namespace from numpy and matplotlib\n"
     ]
    }
   ],
   "source": [
    "%pylab inline\n",
    "import numpy as np\n",
    "import h5py"
   ]
  },
  {
   "cell_type": "code",
   "execution_count": 2,
   "metadata": {},
   "outputs": [
    {
     "name": "stdout",
     "output_type": "stream",
     "text": [
      "/home/xupeng/projects/synapse\n"
     ]
    }
   ],
   "source": [
    "cd /home/xupeng/projects/synapse"
   ]
  },
  {
   "cell_type": "code",
   "execution_count": 3,
   "metadata": {},
   "outputs": [],
   "source": [
    "import os, sys\n",
    "sys.path.append('bin/synapse_pytorch/')\n",
    "sys.path.append('bin/EMSynConn')"
   ]
  },
  {
   "cell_type": "code",
   "execution_count": 8,
   "metadata": {},
   "outputs": [],
   "source": [
    "import time\n",
    "import glob\n",
    "#import mahotas\n",
    "import numpy as np\n",
    "import scipy\n",
    "import scipy.misc\n",
    "import random\n",
    "from PIL import Image\n",
    "import h5py\n",
    "from scipy.ndimage import gaussian_filter, label, find_objects, distance_transform_edt\n",
    "import pickle\n",
    "import itertools\n",
    "import pdb\n",
    "from scipy.spatial import KDTree\n",
    "import os, sys\n",
    "import argparse"
   ]
  },
  {
   "cell_type": "code",
   "execution_count": 9,
   "metadata": {},
   "outputs": [],
   "source": [
    "class Object3d:\n",
    "\t\"\"\"represents a 3d object parsed from a .obj file\"\"\"\n",
    "\tdef __init__(self, g, v, vn, f):\n",
    "\t\tself.g = g\n",
    "\t\tself.v = v\n",
    "\t\tself.vn = vn\n",
    "\t\tself.f = f\n",
    "\n",
    "\tdef rotate(self, rmatrix, center_by_volume = False):\n",
    "\t\t\"\"\"Rotate this object by the provided rotation matrix.\n",
    "\t\tcenter_by_volume -- if true, use the center of the volume as the rotation point, \n",
    "\t\t\totherwise, use the mean of the vertexes\"\"\"\n",
    "\t\tif center_by_volume:\n",
    "\t\t\toffset = (self.v.max(axis=0) + self.v.min(axis=0)) / 2\n",
    "\t\telse:\n",
    "\t\t\toffset = self.v.mean(axis=0)\n",
    "\t\tif self.v.size > 0:\n",
    "\t\t\tself.v = (self.v - offset).dot(rmatrix) + offset\n",
    "\t\tif self.vn.size > 0:\n",
    "\t\t\tself.vn = self.vn.dot(rmatrix)\n",
    "\n",
    "\tdef write_to_file(self, filename):\n",
    "\t\t\"\"\"Write the current state of this object to a file in .obj format.\"\"\"\n",
    "\t\tfile = open(filename, 'w')\n",
    "\t\tfile.write('g {}\\n'.format(self.g))\n",
    "\t\twrite_section(file, 'v', self.v)\n",
    "\t\twrite_section(file, 'vn', self.vn)\n",
    "\t\twrite_section(file, 'f', self.f)\n",
    "\n",
    "def write_section(f, identifier, array):\n",
    "\t\"\"\"Write the identifier and points from array to file f.\"\"\"\n",
    "\tf.write('\\n')\n",
    "\tfor item in array:\n",
    "\t\tf.write('{}  {}  {}  {}\\n'.format(identifier, round(item[0],6), round(item[1],6), round(item[2],6)))\n",
    "\n",
    "def read_obj(filename):\n",
    "\t\"\"\"Open the provided file and parse the contents as an .obj file. \n",
    "\tReturn the parsed object.\"\"\"\n",
    "\tfile = open(filename, 'r')\n",
    "\tg = ''\n",
    "\tv = []\n",
    "\tvn = []\n",
    "\tf = []\n",
    "\tfor line in file:\n",
    "\t\ttokens = line.split()\n",
    "\t\tif len(tokens) > 0:\n",
    "\t\t\tif tokens[0] == \"g\":\n",
    "\t\t\t\tg = tokens[1]\n",
    "\t\t\telif tokens[0] == \"v\":\n",
    "\t\t\t\tv.append(tokens[1:4])\n",
    "\t\t\telif tokens[0] == \"vn\":\n",
    "\t\t\t\tvn.append(tokens[1:4])\n",
    "\t\t\telif tokens[0] == \"f\":\n",
    "\t\t\t\tf.append(tokens[1:4])\n",
    "\treturn Object3d(g, np.array(v, float), np.array(vn, float), np.array(f, int))\n",
    "\n",
    "def normalize(x,y,z):\n",
    "\t\"\"\"Normalize the given 3d vector.\"\"\"\n",
    "\tlength = (x*x + y*y + z*z)**0.5\n",
    "\treturn (x/length, y/length, z/length)\n",
    "\n",
    "def axis_angle_to_rotation_matrix(x, y, z, angle):\n",
    "\t\"\"\"Convert the provided vector and angle to a rotation matrix and return it.\n",
    "\tx,y,z -- the axis vector\n",
    "\tangle -- the angle (in radians) to rotate around the given axis\n",
    "\t\"\"\"\n",
    "\t(x,y,z) = normalize(x,y,z)\n",
    "\tfirst = math.cos(angle) * np.eye(3)\n",
    "\tsecond = (1 - math.cos(angle)) * np.array([[x*x, x*y, x*z],[y*x,y*y,y*z],[z*x,z*y,z*z]])\n",
    "\tthird = math.sin(angle) * np.array([[0,-z,y],[z,0,-x],[-y,x,0]])\n",
    "\treturn first + second + third"
   ]
  },
  {
   "cell_type": "code",
   "execution_count": null,
   "metadata": {},
   "outputs": [],
   "source": []
  }
 ],
 "metadata": {
  "kernelspec": {
   "display_name": "Python 3",
   "language": "python",
   "name": "python3"
  },
  "language_info": {
   "codemirror_mode": {
    "name": "ipython",
    "version": 3
   },
   "file_extension": ".py",
   "mimetype": "text/x-python",
   "name": "python",
   "nbconvert_exporter": "python",
   "pygments_lexer": "ipython3",
   "version": "3.6.5"
  },
  "toc": {
   "base_numbering": 1,
   "nav_menu": {},
   "number_sections": true,
   "sideBar": true,
   "skip_h1_title": false,
   "title_cell": "Table of Contents",
   "title_sidebar": "Contents",
   "toc_cell": false,
   "toc_position": {},
   "toc_section_display": true,
   "toc_window_display": false
  }
 },
 "nbformat": 4,
 "nbformat_minor": 2
}
