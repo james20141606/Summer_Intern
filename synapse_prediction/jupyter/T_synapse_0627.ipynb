{
 "cells": [
  {
   "cell_type": "markdown",
   "metadata": {},
   "source": [
    "# 1. Setup Neuroglancer"
   ]
  },
  {
   "cell_type": "code",
   "execution_count": 1,
   "metadata": {},
   "outputs": [],
   "source": [
    "import neuroglancer\n",
    "import h5py\n",
    "import numpy as np\n",
    "import sys\n",
    "\n",
    "ip='140.247.107.75'\n",
    "pp=9991\n",
    "neuroglancer.set_server_bind_address(bind_address=ip,bind_port=pp)\n",
    "viewer=neuroglancer.Viewer()\n",
    "res=[8,8,30]\n",
    "mag=[200,200,14]#margin"
   ]
  },
  {
   "cell_type": "code",
   "execution_count": 9,
   "metadata": {},
   "outputs": [],
   "source": [
    "# data: zyx-order\n",
    "D0 = '/mnt/coxfs01/vcg_connectomics/cerebellum/gt-syn/'\n",
    "print \"load image\"\n",
    "\n",
    "with h5py.File(D0+'syn_0613_im_ip150.h5') as fid:\n",
    "    img = np.array(fid['main'])[mag[0]:-mag[0],mag[1]:-mag[1],mag[2]:-mag[2]]\n",
    "\n",
    "with viewer.txn() as s:\n",
    "    s.layers.append(\n",
    "        name='img',\n",
    "        layer=neuroglancer.LocalVolume(\n",
    "            data=img.transpose((2,1,0)),\n",
    "            voxel_size=res,\n",
    "        ))\n",
    "\n",
    "with h5py.File(D0+'syn_0613_seg.h5') as fid:\n",
    "    seg = np.array(fid['main'])[mag[0]:-mag[0],mag[1]:-mag[1],mag[2]:-mag[2]]\n",
    "with viewer.txn() as s:\n",
    "    s.layers.append(\n",
    "        name='seg',\n",
    "        layer=neuroglancer.LocalVolume(\n",
    "            data=seg.transpose((2,1,0)).astype(np.uint16),\n",
    "            voxel_size=res,\n",
    "        ))"
   ]
  },
  {
   "cell_type": "code",
   "execution_count": 7,
   "metadata": {},
   "outputs": [],
   "source": [
    "D1='/mnt/coxfs01/donglai/cerebellum/db/syn0619/'\n",
    "\n",
    "with h5py.File(D1+'volume_0_uint8.h5') as fid:\n",
    "    pred = np.array(fid['main'])\n",
    "    pred=pred.transpose((2,1,0))[mag[0]:-mag[0],mag[1]:-mag[1],mag[2]:-mag[2]]\n",
    "\n",
    "thres = 255*0.8\n",
    "with viewer.txn() as s:\n",
    "    s.layers.append(\n",
    "        name='pred',\n",
    "        layer=neuroglancer.LocalVolume(\n",
    "            data=(pred.transpose((2,1,0))>=thres).astype(np.uint16),\n",
    "            voxel_size=res,\n",
    "        ))"
   ]
  },
  {
   "cell_type": "code",
   "execution_count": 5,
   "metadata": {},
   "outputs": [
    {
     "name": "stdout",
     "output_type": "stream",
     "text": [
      "http://140.247.107.75:9991/v/c07a9c1b832d651f0022fa70256171c40cb4e088/\n"
     ]
    }
   ],
   "source": [
    "print viewer"
   ]
  },
  {
   "cell_type": "markdown",
   "metadata": {},
   "source": [
    "# 2. Eval GT"
   ]
  },
  {
   "cell_type": "code",
   "execution_count": 25,
   "metadata": {},
   "outputs": [
    {
     "name": "stdout",
     "output_type": "stream",
     "text": [
      "0.187540385211 0.423263999543\n"
     ]
    }
   ],
   "source": [
    "# precision-recall by pixel\n",
    "\"\"\"\n",
    "p1 = (seg>0)\n",
    "p2 = (pred>204)\n",
    "TP = np.count_nonzero(np.logical_and(p1,p2))\n",
    "FP = np.count_nonzero(np.logical_and(np.logical_not(p1),p2))\n",
    "T = np.count_nonzero(p1)\n",
    "\"\"\"\n",
    "pre = float(TP)/(TP+FP)\n",
    "rec = float(TP)/T\n",
    "print pre,rec"
   ]
  },
  {
   "cell_type": "code",
   "execution_count": 24,
   "metadata": {},
   "outputs": [
    {
     "data": {
      "text/plain": [
       "1051195"
      ]
     },
     "execution_count": 24,
     "metadata": {},
     "output_type": "execute_result"
    }
   ],
   "source": [
    "# precision-recall by segment"
   ]
  },
  {
   "cell_type": "code",
   "execution_count": 8,
   "metadata": {},
   "outputs": [
    {
     "data": {
      "text/plain": [
       "((1946, 1808, 745), (1946, 1808, 745), (1946, 1808, 745))"
      ]
     },
     "execution_count": 8,
     "metadata": {},
     "output_type": "execute_result"
    }
   ],
   "source": [
    "pred.shape, seg.shape,img.shape"
   ]
  },
  {
   "cell_type": "code",
   "execution_count": 12,
   "metadata": {},
   "outputs": [
    {
     "name": "stdout",
     "output_type": "stream",
     "text": [
      "\u001b[0m\u001b[01;34malign\u001b[0m/  \u001b[01;34mgt-seg\u001b[0m/  \u001b[01;34mgt-syn\u001b[0m/  \u001b[01;34mimages\u001b[0m/  \u001b[01;34mscripts\u001b[0m/\r\n"
     ]
    }
   ],
   "source": [
    "ls /mnt/coxfs01/vcg_connectomics/cremi/"
   ]
  }
 ],
 "metadata": {
  "kernelspec": {
   "display_name": "Python 3",
   "language": "python",
   "name": "python3"
  },
  "language_info": {
   "codemirror_mode": {
    "name": "ipython",
    "version": 3
   },
   "file_extension": ".py",
   "mimetype": "text/x-python",
   "name": "python",
   "nbconvert_exporter": "python",
   "pygments_lexer": "ipython3",
   "version": "3.6.5"
  },
  "toc": {
   "base_numbering": 1,
   "nav_menu": {},
   "number_sections": true,
   "sideBar": true,
   "skip_h1_title": false,
   "title_cell": "Table of Contents",
   "title_sidebar": "Contents",
   "toc_cell": false,
   "toc_position": {},
   "toc_section_display": true,
   "toc_window_display": false
  }
 },
 "nbformat": 4,
 "nbformat_minor": 2
}
