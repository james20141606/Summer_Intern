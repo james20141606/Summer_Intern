{
 "cells": [
  {
   "cell_type": "code",
   "execution_count": 4,
   "metadata": {},
   "outputs": [],
   "source": [
    "import matplotlib.animation as animation\n",
    "from matplotlib import rc\n",
    "from IPython.display import HTML, Image\n",
    "from ipywidgets import interact,Dropdown,IntSlider,FloatRangeSlider, FloatSlider, RadioButtons\n",
    "rc('animation', html='html5')"
   ]
  },
  {
   "cell_type": "code",
   "execution_count": 5,
   "metadata": {},
   "outputs": [
    {
     "name": "stdout",
     "output_type": "stream",
     "text": [
      "Populating the interactive namespace from numpy and matplotlib\n"
     ]
    }
   ],
   "source": [
    "import gc, argparse, sys, os, errno\n",
    "%pylab inline\n",
    "import numpy as np\n",
    "import pandas as pd\n",
    "import matplotlib.pyplot as plt\n",
    "#from beakerx import *\n",
    "plt.style.use('ggplot')\n",
    "import seaborn as sns\n",
    "sns.set()\n",
    "import h5py\n",
    "import os\n",
    "from tqdm import tqdm\n",
    "import scipy\n",
    "import sklearn\n",
    "from scipy.stats import pearsonr\n",
    "import warnings\n",
    "warnings.filterwarnings('ignore')"
   ]
  },
  {
   "cell_type": "markdown",
   "metadata": {},
   "source": [
    "# API\n",
    "## DefectAugment\n",
    "class gunpowder.DefectAugment(intensities, prob_missing=0.05, prob_low_contrast=0.05, prob_artifact=0.0, prob_deform=0.0, contrast_scale=0.1, artifact_source=None, artifacts=None, artifacts_mask=None, deformation_strength=20, axis=0)[source]\n",
    "\n",
    "Augment intensity arrays section-wise with artifacts like missing sections, low-contrast sections, by blending in artifacts drawn from a separate source, or by deforming a section.\n",
    "\n",
    "- intensities (ArrayKey) – The key of the array of intensities to modify.\n",
    "- prob_missing (float) –\n",
    "- prob_low_contrast (float) –\n",
    "- prob_artifact (float) –\n",
    "- prob_deform (float) – Probabilities of having a missing section, low-contrast section, an artifact (see param artifact_source) or a deformed slice. The sum should not exceed 1. Values in missing sections will be set to 0.\n",
    "contrast_scale (float, optional) – By how much to scale the intensities for a low-contrast section, used if prob_low_contrast > 0.\n",
    "- (class (artifact_source) – BatchProvider, optional):A gunpowder batch provider that delivers intensities (via ArrayKey artifacts) and an alpha mask (via ArrayKey artifacts_mask), used if prob_artifact > 0.\n",
    "\n",
    "- artifacts (ArrayKey, optional) – The key to query artifact_source for to get the intensities of the artifacts.\n",
    "- artifacts_mask (ArrayKey, optional) – The key to query artifact_source for to get the alpha mask of the artifacts to blend them with intensities.\n",
    "- deformation_strength (int, optional) – Strength of the slice deformation in voxels, used if prob_deform > 0. The deformation models a fold by shifting the section contents towards a randomly oriented line in the section. The line itself will be drawn with a value of 0.\n",
    "- axis (int, optional) – Along which axis sections are cut.\n"
   ]
  },
  {
   "cell_type": "markdown",
   "metadata": {},
   "source": [
    "## ElasticAugment\n",
    "class gunpowder.ElasticAugment(control_point_spacing, jitter_sigma, rotation_interval, prob_slip=0, prob_shift=0, max_misalign=0, subsample=1)[source]\n",
    "Elasticly deform a batch. Requests larger batches upstream to avoid data loss due to rotation and jitter.\n",
    "\n",
    "- control_point_spacing (tuple of int) – Distance between control points for the elastic deformation, in voxels per dimension.\n",
    "- jitter_sigma (tuple of float) – Standard deviation of control point jitter distribution, in voxels per dimension.\n",
    "rotation_interval (tuple of two floats) – Interval to randomly sample rotation angles from (0, 2PI).\n",
    "- prob_slip (float) – Probability of a section to “slip”, i.e., be independently moved in x-y.\n",
    "- prob_shift (float) – Probability of a section and all following sections to move in x-y.\n",
    "- max_misalign (int) – Maximal voxels to shift in x and y. Samples will be drawn uniformly. Used if prob_slip + prob_shift > 0.\n",
    "- subsample (int) – Instead of creating an elastic transformation on the full resolution, create one subsampled by the given factor, and linearly interpolate to obtain the full resolution transformation. This can significantly speed up this node, at the expense of having visible piecewise linear deformations for large factors. Usually, a factor of 4 can savely by used without noticable changes. However, the default is 1 (i.e., no subsampling)."
   ]
  },
  {
   "cell_type": "markdown",
   "metadata": {},
   "source": [
    "## IntensityAugment\n",
    "class gunpowder.IntensityAugment(array, scale_min, scale_max, shift_min, shift_max, z_section_wise=False)[source]\n",
    "Randomly scale and shift the values of an intensity array.\n",
    "\n",
    "- array (ArrayKey) – The intensity array to modify.\n",
    "- scale_min (float) –\n",
    "- scale_max (float) –\n",
    "- shift_min (float) –\n",
    "- shift_max (float) –\n",
    "The min and max of the uniformly randomly drawn scaling and shifting values for the intensity augmentation. Intensities are changed as:\n",
    "```\n",
    "a = a.mean() + (a-a.mean())*scale + shift\n",
    "```\n",
    "- z_section_wise (bool) – Perform the augmentation z-section wise. Requires 3D arrays and assumes that z is the first dimension."
   ]
  },
  {
   "cell_type": "markdown",
   "metadata": {},
   "source": [
    "## SimpleAugment\n",
    "class gunpowder.SimpleAugment(mirror_only=None, transpose_only=None)[source]\n",
    "Randomly mirror and transpose all Arrays and Points in a batch.\n",
    "\n",
    "Parameters:\t\n",
    "- mirror_only (list of int, optional) – If set, only mirror between the given axes. This is useful to exclude channels that have a set direction, like time.\n",
    "- transpose_only (list of int, optional) – If set, only transpose between the given axes. This is useful to limit the transpose to axes with the same resolution or to exclude non-spatial dimensions."
   ]
  },
  {
   "cell_type": "code",
   "execution_count": 1,
   "metadata": {},
   "outputs": [
    {
     "name": "stderr",
     "output_type": "stream",
     "text": [
      "/home/chenxupeng/anaconda2/lib/python2.7/site-packages/h5py/__init__.py:36: FutureWarning: Conversion of the second argument of issubdtype from `float` to `np.floating` is deprecated. In future, it will be treated as `np.float64 == np.dtype(float).type`.\n",
      "  from ._conv import register_converters as _register_converters\n"
     ]
    }
   ],
   "source": [
    "import gunpowder"
   ]
  },
  {
   "cell_type": "code",
   "execution_count": 9,
   "metadata": {},
   "outputs": [],
   "source": [
    "from __future__ import print_function\n",
    "\n",
    "import math\n",
    "import numpy as np\n",
    "import random\n",
    "\n",
    "from gunpowder import *\n",
    "from gunpowder.caffe import *\n",
    "from gunpowder.ext import malis"
   ]
  },
  {
   "cell_type": "markdown",
   "metadata": {},
   "source": [
    "malis has some problems, don't use? doesn't matter in augmentation??"
   ]
  },
  {
   "cell_type": "code",
   "execution_count": 15,
   "metadata": {},
   "outputs": [
    {
     "data": {
      "text/plain": [
       "<gunpowder.caffe.solver_parameters.SolverParameters at 0x7fc8a4f9f0d0>"
      ]
     },
     "execution_count": 15,
     "metadata": {},
     "output_type": "execute_result"
    }
   ],
   "source": [
    "SolverParameters()"
   ]
  },
  {
   "cell_type": "markdown",
   "metadata": {},
   "source": [
    "solver_parameters = SolverParameters()\n",
    "solver_parameters.train_net = 'net.prototxt'\n",
    "solver_parameters.base_lr = 1e-4\n",
    "solver_parameters.momentum = 0.95\n",
    "solver_parameters.momentum2 = 0.999\n",
    "solver_parameters.delta = 1e-8\n",
    "solver_parameters.weight_decay = 0.000005\n",
    "solver_parameters.lr_policy = 'inv'\n",
    "solver_parameters.gamma = 0.0001\n",
    "solver_parameters.power = 0.75\n",
    "solver_parameters.snapshot = 2000\n",
    "solver_parameters.snapshot_prefix = 'net'\n",
    "solver_parameters.type = 'Adam'\n",
    "solver_parameters.resume_from = None\n",
    "solver_parameters.train_state.add_stage('euclid')"
   ]
  },
  {
   "cell_type": "markdown",
   "metadata": {},
   "source": [
    "import gunpowder as gp\n",
    "gp.ElasticAugment(\n",
    "        control_point_spacing=[4, 40, 40],\n",
    "        jitter_sigma=[0, 2, 2],\n",
    "        rotation_interval=[0, math.pi/2.0])"
   ]
  },
  {
   "cell_type": "markdown",
   "metadata": {},
   "source": [
    "def train():\n",
    "\n",
    "    #affinity_neighborhood = malis.mknhood3d()\n",
    "    solver_parameters = SolverParameters()\n",
    "    solver_parameters.train_net = 'net.prototxt'\n",
    "    solver_parameters.base_lr = 1e-4\n",
    "    solver_parameters.momentum = 0.95\n",
    "    solver_parameters.momentum2 = 0.999\n",
    "    solver_parameters.delta = 1e-8\n",
    "    solver_parameters.weight_decay = 0.000005\n",
    "    solver_parameters.lr_policy = 'inv'\n",
    "    solver_parameters.gamma = 0.0001\n",
    "    solver_parameters.power = 0.75\n",
    "    solver_parameters.snapshot = 2000\n",
    "    solver_parameters.snapshot_prefix = 'net'\n",
    "    solver_parameters.type = 'Adam'\n",
    "    solver_parameters.resume_from = None\n",
    "    solver_parameters.train_state.add_stage('euclid')\n",
    "\n",
    "    request = BatchRequest()\n",
    "    request.add_array_request(ArrayKeys.RAW, (84,268,268))\n",
    "    request.add_array_request(ArrayKeys.GT_LABELS, (56,56,56))\n",
    "    request.add_array_request(ArrayKeys.GT_MASK, (56,56,56))\n",
    "    request.add_array_request(ArrayKeys.GT_IGNORE, (56,56,56))\n",
    "    request.add_array_request(ArrayKeys.GT_AFFINITIES, (56,56,56))\n",
    "\n",
    "    data_sources = tuple(\n",
    "        Hdf5Source(\n",
    "            'sample_'+s+'_padded_20160501.aligned.filled.cropped.hdf',\n",
    "            datasets = {\n",
    "                ArrayKeys.RAW: 'volumes/raw',\n",
    "                ArrayKeys.GT_LABELS: 'volumes/labels/neuron_ids_notransparency',\n",
    "                ArrayKeys.GT_MASK: 'volumes/labels/mask',\n",
    "            }\n",
    "        ) +\n",
    "        Normalize() +\n",
    "        RandomLocation()\n",
    "        for s in ['A', 'B', 'C']\n",
    "    )\n",
    "\n",
    "    artifact_source = (\n",
    "        Hdf5Source(\n",
    "            'sample_ABC_padded_20160501.defects.hdf',\n",
    "            datasets = {\n",
    "                ArrayKeys.RAW: 'defect_sections/raw',\n",
    "                ArrayKeys.ALPHA_MASK: 'defect_sections/mask',\n",
    "            }\n",
    "        ) +\n",
    "        RandomLocation(min_masked=0.05, mask_array_key=ArrayKeys.ALPHA_MASK) +\n",
    "        Normalize() +\n",
    "        IntensityAugment(0.9, 1.1, -0.1, 0.1, z_section_wise=True) +\n",
    "        ElasticAugment([4,40,40], [0,2,2], [0,math.pi/2.0]) +\n",
    "        SimpleAugment(transpose_only_xy=True)\n",
    "    )\n",
    "\n",
    "    snapshot_request = BatchRequest()\n",
    "    snapshot_request.add_array_request(ArrayKeys.LOSS_GRADIENT, (56,56,56))\n",
    "\n",
    "    batch_provider_tree = (\n",
    "        data_sources +\n",
    "        RandomProvider() +\n",
    "        ExcludeLabels([8094], ignore_mask_erode=12) +\n",
    "        ElasticAugment([4,40,40], [0,2,2], [0,math.pi/2.0], prob_slip=0.05,prob_shift=0.05,max_misalign=25) +\n",
    "        SimpleAugment(transpose_only_xy=True) +\n",
    "        GrowBoundary(steps=3, only_xy=True) +\n",
    "        AddGtAffinities(affinity_neighborhood) +\n",
    "        SplitAndRenumberSegmentationLabels() +\n",
    "        IntensityAugment(0.9, 1.1, -0.1, 0.1, z_section_wise=True) +\n",
    "        DefectAugment(\n",
    "            prob_missing=0.03,\n",
    "            prob_low_contrast=0.01,\n",
    "            prob_artifact=0.03,\n",
    "            artifact_source=artifact_source,\n",
    "            contrast_scale=0.1) +\n",
    "        ZeroOutConstSections() +\n",
    "        IntensityScaleShift(2,-1) +\n",
    "        BalanceAffinityLabels() +\n",
    "        PreCache(\n",
    "            cache_size=10,\n",
    "            num_workers=5) +\n",
    "        Train(solver_parameters, use_gpu=0) +\n",
    "        Snapshot(every=10, output_filename='batch_{id}.hdf', additional_request=snapshot_request)\n",
    "    )\n",
    "\n",
    "    n = 10\n",
    "    print(\"Training for\", n, \"iterations\")\n",
    "\n",
    "    with build(batch_provider_tree) as minibatch_maker:\n",
    "        for i in range(n):\n",
    "            minibatch_maker.request_batch(request)\n",
    "\n",
    "    print(\"Finished\")"
   ]
  },
  {
   "cell_type": "markdown",
   "metadata": {},
   "source": [
    "# first test simple augmentation, try without installing gunpowder!"
   ]
  },
  {
   "cell_type": "code",
   "execution_count": 19,
   "metadata": {},
   "outputs": [
    {
     "ename": "ValueError",
     "evalue": "Attempted relative import in non-package",
     "output_type": "error",
     "traceback": [
      "\u001b[0;31m---------------------------------------------------------------------------\u001b[0m",
      "\u001b[0;31mValueError\u001b[0m                                Traceback (most recent call last)",
      "\u001b[0;32m<ipython-input-19-7963d54e86f6>\u001b[0m in \u001b[0;36m<module>\u001b[0;34m()\u001b[0m\n\u001b[1;32m      3\u001b[0m \u001b[0;32mimport\u001b[0m \u001b[0mnumpy\u001b[0m \u001b[0;32mas\u001b[0m \u001b[0mnp\u001b[0m\u001b[0;34m\u001b[0m\u001b[0m\n\u001b[1;32m      4\u001b[0m \u001b[0;34m\u001b[0m\u001b[0m\n\u001b[0;32m----> 5\u001b[0;31m \u001b[0;32mfrom\u001b[0m \u001b[0;34m.\u001b[0m\u001b[0mbatch_filter\u001b[0m \u001b[0;32mimport\u001b[0m \u001b[0mBatchFilter\u001b[0m\u001b[0;34m\u001b[0m\u001b[0m\n\u001b[0m\u001b[1;32m      6\u001b[0m \u001b[0;32mfrom\u001b[0m \u001b[0mgunpowder\u001b[0m\u001b[0;34m.\u001b[0m\u001b[0mcoordinate\u001b[0m \u001b[0;32mimport\u001b[0m \u001b[0mCoordinate\u001b[0m\u001b[0;34m\u001b[0m\u001b[0m\n\u001b[1;32m      7\u001b[0m \u001b[0;34m\u001b[0m\u001b[0m\n",
      "\u001b[0;31mValueError\u001b[0m: Attempted relative import in non-package"
     ]
    }
   ],
   "source": [
    "import logging\n",
    "import random\n",
    "import numpy as np\n",
    "\n",
    "from .batch_filter import BatchFilter\n",
    "from gunpowder.coordinate import Coordinate\n",
    "\n",
    "logger = logging.getLogger(__name__)"
   ]
  },
  {
   "cell_type": "code",
   "execution_count": null,
   "metadata": {},
   "outputs": [],
   "source": [
    "\n",
    "\n",
    "class SimpleAugment(BatchFilter):\n",
    "    '''Randomly mirror and transpose all :class:`Arrays<Array>` and\n",
    "    :class:`Points` in a batch.\n",
    "    Args:\n",
    "        mirror_only (``list`` of ``int``, optional):\n",
    "            If set, only mirror between the given axes. This is useful to\n",
    "            exclude channels that have a set direction, like time.\n",
    "        transpose_only (``list`` of ``int``, optional):\n",
    "            If set, only transpose between the given axes. This is useful to\n",
    "            limit the transpose to axes with the same resolution or to exclude\n",
    "            non-spatial dimensions.\n",
    "    '''\n",
    "\n",
    "    def __init__(self, mirror_only=None, transpose_only=None):\n",
    "\n",
    "        self.mirror_only = mirror_only\n",
    "        self.transpose_only = transpose_only\n",
    "        self.mirror_mask = None\n",
    "        self.dims = None\n",
    "        self.transpose_dims = None\n",
    "\n",
    "    def setup(self):\n",
    "\n",
    "        self.dims = self.spec.get_total_roi().dims()\n",
    "\n",
    "        if self.mirror_only is None:\n",
    "            self.mirror_mask = [ True ]*self.dims\n",
    "        else:\n",
    "            self.mirror_mask = [ d in self.mirror_only for d in range(self.dims) ]\n",
    "\n",
    "        if self.transpose_only is None:\n",
    "            self.transpose_dims = list(range(self.dims))\n",
    "        else:\n",
    "            self.transpose_dims = self.transpose_only\n",
    "\n",
    "    def prepare(self, request):\n",
    "\n",
    "        self.total_roi = request.get_total_roi()\n",
    "\n",
    "        self.mirror = [\n",
    "            random.randint(0,1)\n",
    "            if self.mirror_mask[d] else 0\n",
    "            for d in range(self.dims)\n",
    "        ]\n",
    "\n",
    "        t = list(self.transpose_dims)\n",
    "        random.shuffle(t)\n",
    "        self.transpose = list(range(self.dims))\n",
    "        for o, n in zip(self.transpose_dims, t):\n",
    "            self.transpose[o] = n\n",
    "\n",
    "        logger.debug(\"mirror = \" + str(self.mirror))\n",
    "        logger.debug(\"transpose = \" + str(self.transpose))\n",
    "\n",
    "        reverse_transpose = [0]*self.dims\n",
    "        for d in range(self.dims):\n",
    "            reverse_transpose[self.transpose[d]] = d\n",
    "\n",
    "        logger.debug(\"downstream request = \" + str(request))\n",
    "\n",
    "        self.__transpose_request(request, reverse_transpose)\n",
    "        self.__mirror_request(request, self.mirror)\n",
    "\n",
    "        logger.debug(\"upstream request = \" + str(request))\n",
    "\n",
    "    def process(self, batch, request):\n",
    "\n",
    "        mirror = tuple(\n",
    "                slice(None, None, -1 if m else 1)\n",
    "                for m in self.mirror\n",
    "        )\n",
    "        # arrays\n",
    "        for (array_key, array) in batch.arrays.items():\n",
    "\n",
    "            array.data = array.data[mirror]\n",
    "            if self.transpose != (0,1,2):\n",
    "                array.data = array.data.transpose(self.transpose)\n",
    "        # points\n",
    "        total_roi_offset = self.total_roi.get_offset()\n",
    "        for (points_key, points) in batch.points.items():\n",
    "\n",
    "            for loc_id, syn_point in points.data.items():\n",
    "                # mirror\n",
    "                location_in_total_offset = np.asarray(syn_point.location) - total_roi_offset\n",
    "                syn_point.location = np.asarray([self.total_roi.get_end()[dim] - location_in_total_offset[dim]\n",
    "                                                 if m else syn_point.location[dim] for dim, m in enumerate(self.mirror)])\n",
    "                # transpose\n",
    "                if self.transpose != (0, 1, 2):\n",
    "                    syn_point.location = np.asarray([syn_point.location[self.transpose[d]] for d in range(self.dims)])\n",
    "\n",
    "                # due to the mirroring, points at the lower boundary of the ROI\n",
    "                # could fall on the upper one, which excludes them from the ROI\n",
    "                if not points.spec.roi.contains(syn_point.location):\n",
    "                    del points.data[loc_id]\n",
    "\n",
    "        # arrays & points\n",
    "        for collection_type in [batch.arrays, batch.points]:\n",
    "            for (type, collector) in collection_type.items():\n",
    "                logger.debug(\"total ROI: %s\"%self.total_roi)\n",
    "                logger.debug(\"upstream %s ROI: %s\"%(type, collector.spec.roi))\n",
    "                self.__mirror_roi(collector.spec.roi, self.total_roi, self.mirror)\n",
    "                logger.debug(\"mirrored %s ROI: %s\"%(type,collector.spec.roi))\n",
    "                self.__transpose_roi(collector.spec.roi, self.transpose)\n",
    "                logger.debug(\"transposed %s ROI: %s\"%(type,collector.spec.roi))\n",
    "\n",
    "\n",
    "    def __mirror_request(self, request, mirror):\n",
    "\n",
    "        for key, spec in request.items():\n",
    "            self.__mirror_roi(spec.roi, self.total_roi, mirror)\n",
    "\n",
    "    def __transpose_request(self, request, transpose):\n",
    "\n",
    "        for key, spec in request.items():\n",
    "            self.__transpose_roi(spec.roi, transpose)\n",
    "\n",
    "    def __mirror_roi(self, roi, total_roi, mirror):\n",
    "\n",
    "        total_roi_offset = total_roi.get_offset()\n",
    "        total_roi_shape = total_roi.get_shape()\n",
    "\n",
    "        roi_offset = roi.get_offset()\n",
    "        roi_shape = roi.get_shape()\n",
    "\n",
    "        roi_in_total_offset = roi_offset - total_roi_offset\n",
    "        end_of_roi_in_total = roi_in_total_offset + roi_shape\n",
    "        roi_in_total_offset_mirrored = total_roi_shape - end_of_roi_in_total\n",
    "        roi_offset = Coordinate(\n",
    "                total_roi_offset[d] + roi_in_total_offset_mirrored[d] if mirror[d] else roi_offset[d]\n",
    "                for d in range(self.dims)\n",
    "        )\n",
    "\n",
    "        roi.set_offset(roi_offset)\n",
    "\n",
    "    def __transpose_roi(self, roi, transpose):\n",
    "\n",
    "        offset = roi.get_offset()\n",
    "        shape = roi.get_shape()\n",
    "        offset = tuple(offset[transpose[d]] for d in range(self.dims))\n",
    "        shape = tuple(shape[transpose[d]] for d in range(self.dims))\n",
    "        roi.set_offset(offset)\n",
    "        roi.set_shape(shape)"
   ]
  },
  {
   "cell_type": "markdown",
   "metadata": {},
   "source": [
    "## try mirror!"
   ]
  },
  {
   "cell_type": "code",
   "execution_count": 22,
   "metadata": {},
   "outputs": [],
   "source": [
    "def setup(mirror_only=None,transpose_only=None,dims=3):\n",
    "    if mirror_only is None:\n",
    "        mirror_mask = [ True ]*dims\n",
    "    else:\n",
    "        mirror_mask = [ d in self.mirror_only for d in range(dims) ]\n",
    "\n",
    "    if transpose_only is None:\n",
    "        transpose_dims = list(range(dims))\n",
    "    else:\n",
    "        transpose_dims = transpose_only\n",
    "    return mirror_mask,transpose_dims"
   ]
  },
  {
   "cell_type": "code",
   "execution_count": 25,
   "metadata": {},
   "outputs": [
    {
     "name": "stdout",
     "output_type": "stream",
     "text": [
      "[True, True, True] [0, 1, 2]\n"
     ]
    }
   ],
   "source": [
    "mirror_mask,transpose_dims = setup(mirror_only=None,transpose_only=None,dims=3)\n",
    "print (mirror_mask,transpose_dims)"
   ]
  },
  {
   "cell_type": "code",
   "execution_count": 26,
   "metadata": {},
   "outputs": [],
   "source": [
    "dims=3"
   ]
  },
  {
   "cell_type": "code",
   "execution_count": null,
   "metadata": {},
   "outputs": [],
   "source": [
    "# random.randint generate random axis?"
   ]
  },
  {
   "cell_type": "code",
   "execution_count": 33,
   "metadata": {},
   "outputs": [
    {
     "data": {
      "text/plain": [
       "[0, 0, 1]"
      ]
     },
     "execution_count": 33,
     "metadata": {},
     "output_type": "execute_result"
    }
   ],
   "source": [
    "[random.randint(0,1) if mirror_mask[d] else 0 for d in range(dims)]"
   ]
  },
  {
   "cell_type": "code",
   "execution_count": 31,
   "metadata": {},
   "outputs": [
    {
     "data": {
      "text/plain": [
       "[True, True, True]"
      ]
     },
     "execution_count": 31,
     "metadata": {},
     "output_type": "execute_result"
    }
   ],
   "source": [
    "[mirror_mask[d] for d in range(dims)]"
   ]
  },
  {
   "cell_type": "code",
   "execution_count": null,
   "metadata": {},
   "outputs": [],
   "source": []
  }
 ],
 "metadata": {
  "kernelspec": {
   "display_name": "Python 2",
   "language": "python",
   "name": "python2"
  },
  "language_info": {
   "codemirror_mode": {
    "name": "ipython",
    "version": 2
   },
   "file_extension": ".py",
   "mimetype": "text/x-python",
   "name": "python",
   "nbconvert_exporter": "python",
   "pygments_lexer": "ipython2",
   "version": "2.7.14"
  },
  "toc": {
   "base_numbering": 1,
   "nav_menu": {},
   "number_sections": true,
   "sideBar": true,
   "skip_h1_title": false,
   "title_cell": "Table of Contents",
   "title_sidebar": "Contents",
   "toc_cell": false,
   "toc_position": {},
   "toc_section_display": true,
   "toc_window_display": false
  }
 },
 "nbformat": 4,
 "nbformat_minor": 2
}
