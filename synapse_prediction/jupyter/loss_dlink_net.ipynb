{
 "cells": [
  {
   "cell_type": "code",
   "execution_count": 1,
   "metadata": {},
   "outputs": [
    {
     "name": "stdout",
     "output_type": "stream",
     "text": [
      "/home/xupeng/projects/synapse\n"
     ]
    }
   ],
   "source": [
    "cd /home/xupeng/projects/synapse/"
   ]
  },
  {
   "cell_type": "code",
   "execution_count": 2,
   "metadata": {},
   "outputs": [],
   "source": [
    "import torch\n",
    "import torch.nn as nn\n",
    "import torch.utils.data as data\n",
    "from torch.autograd import Variable as V\n",
    "\n",
    "import cv2\n",
    "import os\n",
    "import numpy as np"
   ]
  },
  {
   "cell_type": "code",
   "execution_count": 3,
   "metadata": {},
   "outputs": [],
   "source": [
    "import os, sys\n",
    "sys.path.append('bin/Dlinknet/')"
   ]
  },
  {
   "cell_type": "code",
   "execution_count": null,
   "metadata": {
    "deletable": false,
    "editable": false,
    "run_control": {
     "frozen": true
    }
   },
   "outputs": [],
   "source": [
    "from time import time\n",
    "\n",
    "from networks.unet import Unet\n",
    "from networks.dunet import Dunet\n",
    "from networks.dinknet import LinkNet34, DinkNet34, DinkNet50, DinkNet101, DinkNet34_less_pool\n",
    "from framework import MyFrame\n",
    "from loss import dice_bce_loss\n",
    "from data import ImageFolder"
   ]
  },
  {
   "cell_type": "markdown",
   "metadata": {},
   "source": [
    "## compare BCE loss and BCE_DICE loss in deepglobe"
   ]
  },
  {
   "cell_type": "code",
   "execution_count": 4,
   "metadata": {},
   "outputs": [],
   "source": [
    "class dice_bce_loss(nn.Module):\n",
    "    def __init__(self, batch=True):\n",
    "        super(dice_bce_loss, self).__init__()\n",
    "        self.batch = batch\n",
    "        self.bce_loss = nn.BCELoss()\n",
    "        \n",
    "    def soft_dice_coeff(self, y_true, y_pred):\n",
    "        smooth = 0.0  # may change\n",
    "        if self.batch:\n",
    "            i = torch.sum(y_true)\n",
    "            j = torch.sum(y_pred)\n",
    "            intersection = torch.sum(y_true * y_pred)\n",
    "        else:\n",
    "            i = y_true.sum(1).sum(1).sum(1)\n",
    "            j = y_pred.sum(1).sum(1).sum(1)\n",
    "            intersection = (y_true * y_pred).sum(1).sum(1).sum(1)\n",
    "        score = (2. * intersection + smooth) / (i + j + smooth)\n",
    "        #score = (intersection + smooth) / (i + j - intersection + smooth)#iou\n",
    "        return score.mean()\n",
    "\n",
    "    def soft_dice_loss(self, y_true, y_pred):\n",
    "        loss = 1 - self.soft_dice_coeff(y_true, y_pred)\n",
    "        return loss\n",
    "        \n",
    "    def __call__(self, y_true, y_pred):\n",
    "        a =  self.bce_loss(y_pred, y_true)\n",
    "        b =  self.soft_dice_loss(y_true, y_pred)\n",
    "        return a + b"
   ]
  },
  {
   "cell_type": "code",
   "execution_count": 5,
   "metadata": {},
   "outputs": [],
   "source": [
    "from torch.nn.modules.loss import _assert_no_grad, _Loss\n",
    "class WeightedBCELoss(_Loss):\n",
    "\n",
    "    def __init__(self, size_average=True, reduce=True):\n",
    "        super(WeightedBCELoss, self).__init__(size_average, reduce)\n",
    "\n",
    "    def forward(self, input, target, weight):\n",
    "        _assert_no_grad(target)\n",
    "        return F.binary_cross_entropy(input, target, weight, self.size_average,\n",
    "                                      self.reduce)"
   ]
  },
  {
   "cell_type": "markdown",
   "metadata": {},
   "source": [
    "## loss use in synapse pytorch\n",
    "- criterion = WeightedBCELoss()\n",
    "- train(args, train_loader, model, device, criterion, optimizer, logger, writer)\n",
    "- loss = criterion(output, label, class_weight)\n",
    "- class_weight in enumerate(train_loader)\n",
    "- train_loader = get_input(args, model_io_size, 'train')\n",
    "- get_input ? where to define class weight?"
   ]
  },
  {
   "cell_type": "markdown",
   "metadata": {},
   "source": [
    "## try implement BCE_DICE in synapse"
   ]
  },
  {
   "cell_type": "code",
   "execution_count": 7,
   "metadata": {},
   "outputs": [],
   "source": [
    "class dice_bce_loss(nn.Module):\n",
    "    def __init__(self, batch=True):\n",
    "        super(dice_bce_loss, self).__init__()\n",
    "        self.batch = batch\n",
    "        self.bce_loss = WeightedBCELoss()\n",
    "\n",
    "    def soft_dice_coeff(self, input, target):\n",
    "        smooth = 0.0  # may change\n",
    "        if self.batch:\n",
    "            i = torch.sum(target)\n",
    "            j = torch.sum(input)\n",
    "            intersection = torch.sum(target * input)\n",
    "        else:\n",
    "            i = target.sum(1).sum(1).sum(1)\n",
    "            j = input.sum(1).sum(1).sum(1)\n",
    "            intersection = (target * input).sum(1).sum(1).sum(1)\n",
    "        score = (2. * intersection + smooth) / (i + j + smooth)\n",
    "        #score = (intersection + smooth) / (i + j - intersection + smooth)#iou\n",
    "        return score.mean()\n",
    "\n",
    "    def soft_dice_loss(self, input, target):\n",
    "        loss = 1 - self.soft_dice_coeff(input, target)\n",
    "        return loss\n",
    "\n",
    "    def __call__(self, input, target, weight):\n",
    "        a = self.bce_loss(input, target, weight)\n",
    "        b = self.soft_dice_loss(input, target)\n",
    "        return a + b\n",
    "\n",
    "\n",
    "class dice_loss(nn.Module):\n",
    "    def __init__(self, batch=True):\n",
    "        super(dice_loss, self).__init__()\n",
    "        self.batch = batch\n",
    "\n",
    "    def soft_dice_coeff(self, input, target):\n",
    "        smooth = 0.0  # may change\n",
    "        if self.batch:\n",
    "            i = torch.sum(target)\n",
    "            j = torch.sum(input)\n",
    "            intersection = torch.sum(target * input)\n",
    "        else:\n",
    "            i = target.sum(1).sum(1).sum(1)\n",
    "            j = input.sum(1).sum(1).sum(1)\n",
    "            intersection = (target * input).sum(1).sum(1).sum(1)\n",
    "        score = (2. * intersection + smooth) / (i + j + smooth)\n",
    "        #score = (intersection + smooth) / (i + j - intersection + smooth)#iou\n",
    "        return score.mean()\n",
    "\n",
    "    def soft_dice_loss(self, input, target):\n",
    "        loss = 1 - self.soft_dice_coeff(input, target)\n",
    "        return loss\n",
    "\n",
    "    def __call__(self, input, target):\n",
    "        return self.soft_dice_loss(input, target)"
   ]
  },
  {
   "cell_type": "code",
   "execution_count": null,
   "metadata": {},
   "outputs": [],
   "source": []
  }
 ],
 "metadata": {
  "kernelspec": {
   "display_name": "Python 3",
   "language": "python",
   "name": "python3"
  },
  "language_info": {
   "codemirror_mode": {
    "name": "ipython",
    "version": 3
   },
   "file_extension": ".py",
   "mimetype": "text/x-python",
   "name": "python",
   "nbconvert_exporter": "python",
   "pygments_lexer": "ipython3",
   "version": "3.6.5"
  },
  "toc": {
   "base_numbering": 1,
   "nav_menu": {},
   "number_sections": true,
   "sideBar": true,
   "skip_h1_title": false,
   "title_cell": "Table of Contents",
   "title_sidebar": "Contents",
   "toc_cell": false,
   "toc_position": {},
   "toc_section_display": true,
   "toc_window_display": false
  }
 },
 "nbformat": 4,
 "nbformat_minor": 2
}
